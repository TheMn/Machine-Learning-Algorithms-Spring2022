{
 "cells": [
  {
   "cell_type": "code",
   "execution_count": 5,
   "id": "a5a87bbb-19c1-4aa6-a746-d0f6b279fe62",
   "metadata": {},
   "outputs": [],
   "source": [
    "import numpy as np"
   ]
  },
  {
   "cell_type": "markdown",
   "id": "5460c794-572a-4f3e-bcb9-a92f51f73324",
   "metadata": {},
   "source": [
    "$$f_k(x) = \\frac{1}{(2 \\pi)^{p/2} |\\Sigma|^{1/2}} \\exp \\left( - \\frac{1}{2} (x - \\mu_k)^T \\Sigma^{-1} (x - \\mu_k) \\right)$$"
   ]
  },
  {
   "cell_type": "code",
   "execution_count": 1,
   "id": "ee384765-3a3c-444f-8388-1c3711fdb30f",
   "metadata": {},
   "outputs": [],
   "source": [
    "def f_k(X, mu_k, sigma):\n",
    "    X = X.reshape(-1, 1)\n",
    "    mu_k = mu_k.reshape(-1, 1)\n",
    "    p = sigma.shape[0]\n",
    "\n",
    "    return float(\n",
    "        (1.0 / np.sqrt((2 * np.pi) ** p/2 * np.linalg.det(sigma))) ** 1/2\n",
    "        * np.exp(-(1 / 2) * ((X - mu_k).T @ np.linalg.inv(sigma) @ (X - mu_k)))\n",
    "    )"
   ]
  },
  {
   "cell_type": "markdown",
   "id": "472f7bcc-370a-4296-8a78-68c079f18ccc",
   "metadata": {},
   "source": [
    "$$\\delta_k(x) = \\log \\pi_k - \\frac{1}{2} \\mu^T_k \\Sigma^{-1} \\mu_k  + x^T \\Sigma^{-1} \\mu_k$$"
   ]
  },
  {
   "cell_type": "code",
   "execution_count": 2,
   "id": "f381c48c-714b-47e9-9699-4bca1ed9e202",
   "metadata": {},
   "outputs": [],
   "source": [
    "def linear_score(X, mu_k, sigma, pi_k):\n",
    "    return (\n",
    "        np.log(pi_k)\n",
    "        - 1 / 2 * (mu_k).T @ np.linalg.inv(sigma) @ (mu_k)\n",
    "        + X.T @ np.linalg.inv(sigma) @ (mu_k)\n",
    "    ).flatten()[0]"
   ]
  },
  {
   "cell_type": "markdown",
   "id": "1cbf415a-7280-4bab-87ed-72987ed78490",
   "metadata": {},
   "source": [
    "$$\\log \\frac{\\pi_k}{\\pi_l} - \\frac{1}{2} (\\mu_k + \\mu_l)^T \\Sigma^{-1} (\\mu_k - \\mu_l)  + x^T \\Sigma^{-1} (\\mu_k - \\mu_l)  = 0$$"
   ]
  },
  {
   "cell_type": "code",
   "execution_count": 3,
   "id": "ebd75be8-78c7-47b1-aa0d-84fcc07cfcbb",
   "metadata": {},
   "outputs": [],
   "source": [
    "def boundary(X, mu_k, mu_l, sigma, pi_k, pi_l):\n",
    "    return (\n",
    "        np.log(pi_k / pi_l)\n",
    "        - 1 / 2 * (mu_k + mu_l).T @ np.linalg.inv(sigma) @ (mu_k - mu_l)\n",
    "        + X.T @ np.linalg.inv(sigma) @ (mu_k - mu_l)\n",
    "    ).flatten()[0]"
   ]
  },
  {
   "cell_type": "code",
   "execution_count": 4,
   "id": "f459160a-c175-4202-abdd-623deac8bddb",
   "metadata": {},
   "outputs": [],
   "source": [
    "def lda_predict(X, mu, sigma, pi):\n",
    "    scores = []\n",
    "\n",
    "    for p in range(len(mu)):\n",
    "        score = linear_score(\n",
    "            X.reshape(-1, 1), mu[p].reshape(-1, 1), sigma, pi[0]\n",
    "        )\n",
    "        scores.append(score)\n",
    "\n",
    "    return np.argmax(scores)"
   ]
  },
  {
   "cell_type": "code",
   "execution_count": 7,
   "id": "3f5d1b41-4f6c-431d-a4f0-0b0f0be54f96",
   "metadata": {},
   "outputs": [
    {
     "data": {
      "text/plain": [
       "(150, 4)"
      ]
     },
     "execution_count": 7,
     "metadata": {},
     "output_type": "execute_result"
    }
   ],
   "source": [
    "from sklearn.datasets import load_iris\n",
    "X, y = load_iris(return_X_y=True)\n",
    "X.shape"
   ]
  },
  {
   "cell_type": "code",
   "execution_count": 8,
   "id": "8b1337e4-ec25-4b3a-85a1-c0a47b6220d5",
   "metadata": {},
   "outputs": [
    {
     "name": "stdout",
     "output_type": "stream",
     "text": [
      "mu_0: [5.006 3.428 1.462 0.246]\n",
      "mu_1: [5.006 3.428 1.462 0.246]\n",
      "mu_2: [5.936 2.77  4.26  1.326]\n"
     ]
    }
   ],
   "source": [
    "mu = []\n",
    "for c in range(3):\n",
    "    mu.append(np.mean(X[y==c], axis=0))\n",
    "    print('mu_{}: {}'.format(c, mu[c-1]))"
   ]
  },
  {
   "cell_type": "code",
   "execution_count": 15,
   "id": "371e6c07-af73-4e38-8ad3-ff098264665e",
   "metadata": {},
   "outputs": [],
   "source": [
    "sigma = np.cov(X)"
   ]
  }
 ],
 "metadata": {
  "kernelspec": {
   "display_name": "Python 3 (ipykernel)",
   "language": "python",
   "name": "python3"
  },
  "language_info": {
   "codemirror_mode": {
    "name": "ipython",
    "version": 3
   },
   "file_extension": ".py",
   "mimetype": "text/x-python",
   "name": "python",
   "nbconvert_exporter": "python",
   "pygments_lexer": "ipython3",
   "version": "3.8.10"
  }
 },
 "nbformat": 4,
 "nbformat_minor": 5
}
