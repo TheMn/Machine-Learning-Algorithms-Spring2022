{
 "cells": [
  {
   "cell_type": "markdown",
   "id": "475a558a",
   "metadata": {},
   "source": [
    "### امیرحسین مهدی‌نژاد - شماره دانشجویی ۸۱۰۸۰۰۰۵۸ - تمرین سری اول الگوریتم‌های یادگیری ماشین\n",
    "\n",
    "# پاسخ سوال‌های دوم و چهارم"
   ]
  },
  {
   "cell_type": "markdown",
   "id": "39e156a5",
   "metadata": {},
   "source": [
    "## اضافه کردن کتابخانه‌های مورد استفاده"
   ]
  },
  {
   "cell_type": "code",
   "execution_count": 1,
   "id": "9372b0e3",
   "metadata": {},
   "outputs": [],
   "source": [
    "import numpy as np\n",
    "import pandas as pd\n",
    "import matplotlib.pyplot as plt\n",
    "from sklearn.datasets import load_breast_cancer\n",
    "from sklearn.model_selection import train_test_split\n",
    "from Utiles import normalizer\n",
    "from scipy.optimize import minimize"
   ]
  },
  {
   "cell_type": "markdown",
   "id": "601880ac",
   "metadata": {},
   "source": [
    "## خواندن دیتاست سرطان سینه"
   ]
  },
  {
   "cell_type": "code",
   "execution_count": 2,
   "id": "c2f946d4",
   "metadata": {},
   "outputs": [
    {
     "data": {
      "text/plain": [
       "array([[1.799e+01, 1.038e+01, 1.228e+02, ..., 2.654e-01, 4.601e-01,\n",
       "        1.189e-01],\n",
       "       [2.057e+01, 1.777e+01, 1.329e+02, ..., 1.860e-01, 2.750e-01,\n",
       "        8.902e-02],\n",
       "       [1.969e+01, 2.125e+01, 1.300e+02, ..., 2.430e-01, 3.613e-01,\n",
       "        8.758e-02],\n",
       "       ...,\n",
       "       [1.660e+01, 2.808e+01, 1.083e+02, ..., 1.418e-01, 2.218e-01,\n",
       "        7.820e-02],\n",
       "       [2.060e+01, 2.933e+01, 1.401e+02, ..., 2.650e-01, 4.087e-01,\n",
       "        1.240e-01],\n",
       "       [7.760e+00, 2.454e+01, 4.792e+01, ..., 0.000e+00, 2.871e-01,\n",
       "        7.039e-02]])"
      ]
     },
     "execution_count": 2,
     "metadata": {},
     "output_type": "execute_result"
    }
   ],
   "source": [
    "X, y = load_breast_cancer(return_X_y=True)\n",
    "X"
   ]
  },
  {
   "cell_type": "code",
   "execution_count": 3,
   "id": "311f589c",
   "metadata": {},
   "outputs": [
    {
     "data": {
      "text/plain": [
       "(569, 30)"
      ]
     },
     "execution_count": 3,
     "metadata": {},
     "output_type": "execute_result"
    }
   ],
   "source": [
    "X.shape"
   ]
  },
  {
   "cell_type": "markdown",
   "id": "84bcb404",
   "metadata": {},
   "source": [
    "## تقسیم داده‌ها به دو بخش آموزش و آزمون"
   ]
  },
  {
   "cell_type": "code",
   "execution_count": 4,
   "id": "db6dc872",
   "metadata": {},
   "outputs": [],
   "source": [
    "X_train, X_test, y_train, y_test = train_test_split(X, y, test_size=0.2)"
   ]
  },
  {
   "cell_type": "markdown",
   "id": "93fab281",
   "metadata": {},
   "source": [
    "## Utiles نرمالسازی با استفاده از تابع پیاده‌سازی شده در فایل"
   ]
  },
  {
   "cell_type": "code",
   "execution_count": 5,
   "id": "87ffe5e3",
   "metadata": {},
   "outputs": [
    {
     "data": {
      "text/plain": [
       "array([[-0.09864553, -0.20478061, -0.09542961, ..., -0.12102497,\n",
       "         0.13018218,  0.05394451],\n",
       "       [-0.12759406, -0.03332305, -0.13241922, ..., -0.11755418,\n",
       "         0.06863275, -0.03654075],\n",
       "       [-0.14035104, -0.02486854, -0.14038622, ..., -0.10882566,\n",
       "         0.03298636, -0.10745808],\n",
       "       ...,\n",
       "       [ 0.08927459,  0.13170908,  0.0725886 , ..., -0.05958167,\n",
       "         0.00637039,  0.00213546],\n",
       "       [ 0.15060623,  0.20543244,  0.14158846, ...,  0.19522933,\n",
       "        -0.10009349, -0.03122195],\n",
       "       [ 0.02352708,  0.02653491,  0.01596604, ...,  0.15055579,\n",
       "         0.02561944, -0.01336129]])"
      ]
     },
     "execution_count": 5,
     "metadata": {},
     "output_type": "execute_result"
    }
   ],
   "source": [
    "X_train, X_test = normalizer(X_train, X_test)\n",
    "X_train"
   ]
  },
  {
   "cell_type": "markdown",
   "id": "0dd82850",
   "metadata": {},
   "source": [
    "## اضافه کردن ستون یک سمت چپ داده‌ها"
   ]
  },
  {
   "cell_type": "code",
   "execution_count": 6,
   "id": "59435520",
   "metadata": {},
   "outputs": [
    {
     "data": {
      "text/plain": [
       "array([[ 1.        , -0.09864553, -0.20478061, ..., -0.12102497,\n",
       "         0.13018218,  0.05394451],\n",
       "       [ 1.        , -0.12759406, -0.03332305, ..., -0.11755418,\n",
       "         0.06863275, -0.03654075],\n",
       "       [ 1.        , -0.14035104, -0.02486854, ..., -0.10882566,\n",
       "         0.03298636, -0.10745808],\n",
       "       ...,\n",
       "       [ 1.        ,  0.08927459,  0.13170908, ..., -0.05958167,\n",
       "         0.00637039,  0.00213546],\n",
       "       [ 1.        ,  0.15060623,  0.20543244, ...,  0.19522933,\n",
       "        -0.10009349, -0.03122195],\n",
       "       [ 1.        ,  0.02352708,  0.02653491, ...,  0.15055579,\n",
       "         0.02561944, -0.01336129]])"
      ]
     },
     "execution_count": 6,
     "metadata": {},
     "output_type": "execute_result"
    }
   ],
   "source": [
    "X_train, X_test = np.c_[np.ones(X_train.shape[0]), X_train], np.c_[np.ones(X_test.shape[0]), X_test]\n",
    "X_train"
   ]
  },
  {
   "cell_type": "markdown",
   "id": "0db56a9d",
   "metadata": {},
   "source": [
    "## پیاده‌سازی تابع هزینه"
   ]
  },
  {
   "cell_type": "markdown",
   "id": "db354930",
   "metadata": {},
   "source": [
    "\\begin{align*}& J(\\theta) = \\dfrac{1}{m} \\sum_{i=1}^m \\mathrm{Cost}(h_\\theta(x^{(i)}),y^{(i)}) \\newline & \\mathrm{Cost}(h_\\theta(x),y) = -\\log(h_\\theta(x)) \\; & \\text{if y = 1} \\newline & \\mathrm{Cost}(h_\\theta(x),y) = -\\log(1-h_\\theta(x)) \\; & \\text{if y = 0}\\end{align*}\n",
    "\n",
    "$$Loss = Error(Y - \\widehat{Y}) +  \\lambda \\sum_1^n w_i^{2}$$"
   ]
  },
  {
   "cell_type": "code",
   "execution_count": 7,
   "id": "c395ed4b",
   "metadata": {},
   "outputs": [],
   "source": [
    "def compute_cost(theta, X, Y):\n",
    "    m = X.shape[0]\n",
    "    lamda = 0.01\n",
    "    return -1/m * sum(np.multiply(Y, np.log( 1/(1 + np.exp(-np.matmul(X, theta))))) + np.multiply( (1 - Y), np.log(1 - 1/(1 + np.exp(-np.matmul(X, theta)))))) + (lamda/(2*m))*sum(np.array(theta[1:])**2)"
   ]
  },
  {
   "cell_type": "markdown",
   "id": "5f8462d4",
   "metadata": {},
   "source": [
    "## پیاده‌سازی مشتق تابع هزینه"
   ]
  },
  {
   "cell_type": "code",
   "execution_count": 8,
   "id": "40e89cf5",
   "metadata": {},
   "outputs": [],
   "source": [
    "def gradient(theta, X, Y):\n",
    "    m = X.shape[0]\n",
    "    lamda = 0.01\n",
    "    temp = theta\n",
    "    temp[0] = 0\n",
    "    return np.matmul( np.transpose(1/(1 + np.exp(-np.matmul(X, theta))) - Y ), X) / m + (lamda/m)*sum(theta)"
   ]
  },
  {
   "cell_type": "code",
   "execution_count": 11,
   "id": "79a9ffb3",
   "metadata": {},
   "outputs": [],
   "source": [
    "theta = np.zeros(X_train.shape[1])\n",
    "rounds = [i+1 for i in range(iteration)]"
   ]
  },
  {
   "cell_type": "markdown",
   "id": "f1639a0f",
   "metadata": {},
   "source": [
    "## پیدا کردن مقدار بهینه با استفاده از تابع مینی‌مایز"
   ]
  },
  {
   "cell_type": "code",
   "execution_count": 12,
   "id": "b1584945",
   "metadata": {},
   "outputs": [],
   "source": [
    "result = minimize(compute_cost, x0=np.zeros(X_train.shape[1]), args=(X_train, y_train), method ='CG', jac=gradient)\n",
    "theta = result.x"
   ]
  },
  {
   "cell_type": "code",
   "execution_count": 14,
   "id": "3c633a4a",
   "metadata": {},
   "outputs": [
    {
     "data": {
      "text/plain": [
       "0.32706404574857334"
      ]
     },
     "execution_count": 14,
     "metadata": {},
     "output_type": "execute_result"
    }
   ],
   "source": [
    "compute_cost(theta, X_train, y_train)"
   ]
  },
  {
   "cell_type": "markdown",
   "id": "b9da1ae1",
   "metadata": {},
   "source": [
    "## استفاده از کتابخانه‌های از پیش تعریف شده برای مقایسه‌ی نتایج"
   ]
  },
  {
   "cell_type": "code",
   "execution_count": 15,
   "id": "60e55588",
   "metadata": {},
   "outputs": [
    {
     "name": "stdout",
     "output_type": "stream",
     "text": [
      "0.9692307692307692\n"
     ]
    },
    {
     "data": {
      "text/plain": [
       "array([[ 7.75301150e-06, -1.49219149e+00, -1.43843735e+00,\n",
       "        -1.47099225e+00, -1.23716659e+00, -6.14740711e-01,\n",
       "        -4.52501507e-01, -1.29494461e+00, -1.87271405e+00,\n",
       "        -4.96342622e-01,  6.28933095e-01, -8.78764771e-01,\n",
       "        -5.80680695e-02, -6.69279753e-01, -6.03628851e-01,\n",
       "         1.09634407e-01,  7.27162703e-01,  2.80726389e-01,\n",
       "        -1.02223972e-01,  1.54000601e-01,  4.74934402e-01,\n",
       "        -2.33421697e+00, -2.24358490e+00, -2.15913670e+00,\n",
       "        -1.82664977e+00, -1.67067647e+00, -8.70029089e-01,\n",
       "        -1.40633471e+00, -2.64837782e+00, -1.46233515e+00,\n",
       "        -5.58933606e-01]])"
      ]
     },
     "execution_count": 15,
     "metadata": {},
     "output_type": "execute_result"
    }
   ],
   "source": [
    "from sklearn.linear_model import LogisticRegression\n",
    "\n",
    "regr = LogisticRegression()\n",
    "regr.fit(X_train, y_train)\n",
    "print(regr.score(X_train, y_train))\n",
    "regr.coef_"
   ]
  },
  {
   "cell_type": "code",
   "execution_count": 16,
   "id": "9f898d5f",
   "metadata": {},
   "outputs": [
    {
     "data": {
      "text/plain": [
       "array([1, 1])"
      ]
     },
     "execution_count": 16,
     "metadata": {},
     "output_type": "execute_result"
    }
   ],
   "source": [
    "regr.predict(X_train[0:2])"
   ]
  },
  {
   "cell_type": "markdown",
   "id": "794d392f",
   "metadata": {},
   "source": [
    "## اجرا برای داده‌ی تست"
   ]
  },
  {
   "cell_type": "code",
   "execution_count": 17,
   "id": "5415c6a6",
   "metadata": {},
   "outputs": [
    {
     "data": {
      "text/plain": [
       "0.2779286462646651"
      ]
     },
     "execution_count": 17,
     "metadata": {},
     "output_type": "execute_result"
    }
   ],
   "source": [
    "compute_cost(theta, X_test, y_test)"
   ]
  },
  {
   "cell_type": "code",
   "execution_count": 18,
   "id": "5abdc5aa",
   "metadata": {},
   "outputs": [
    {
     "data": {
      "text/plain": [
       "0.9473684210526315"
      ]
     },
     "execution_count": 18,
     "metadata": {},
     "output_type": "execute_result"
    }
   ],
   "source": [
    "regr.score(X_test, y_test)"
   ]
  },
  {
   "cell_type": "markdown",
   "id": "ea5ecb90",
   "metadata": {},
   "source": [
    "نتیجه‌ی ما بهتر بود"
   ]
  }
 ],
 "metadata": {
  "kernelspec": {
   "display_name": "Python 3 (ipykernel)",
   "language": "python",
   "name": "python3"
  },
  "language_info": {
   "codemirror_mode": {
    "name": "ipython",
    "version": 3
   },
   "file_extension": ".py",
   "mimetype": "text/x-python",
   "name": "python",
   "nbconvert_exporter": "python",
   "pygments_lexer": "ipython3",
   "version": "3.8.10"
  }
 },
 "nbformat": 4,
 "nbformat_minor": 5
}
