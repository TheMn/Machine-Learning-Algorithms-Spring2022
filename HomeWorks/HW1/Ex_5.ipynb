{
 "cells": [
  {
   "cell_type": "markdown",
   "id": "d7ce72f3",
   "metadata": {},
   "source": [
    "### امیرحسین مهدی‌نژاد - شماره دانشجویی ۸۱۰۸۰۰۰۵۸ - تمرین سری اول الگوریتم‌های یادگیری ماشین\n",
    "\n",
    "# پاسخ سوال پنجم"
   ]
  },
  {
   "cell_type": "markdown",
   "id": "2011910f",
   "metadata": {},
   "source": [
    "## اضافه کردن کتابخانه‌های مورد استفاده"
   ]
  },
  {
   "cell_type": "code",
   "execution_count": 6,
   "id": "a92bdc88",
   "metadata": {},
   "outputs": [],
   "source": [
    "import numpy as np\n",
    "import pandas as pd\n",
    "import matplotlib.pyplot as plt\n",
    "from sklearn.datasets import load_boston\n",
    "from sklearn.model_selection import train_test_split\n",
    "from Utiles import normalizer\n",
    "from numpy.linalg import inv"
   ]
  },
  {
   "cell_type": "markdown",
   "id": "3510a891",
   "metadata": {},
   "source": [
    "## خواندن دیتاست بوستون"
   ]
  },
  {
   "cell_type": "code",
   "execution_count": 3,
   "id": "f7fb59be",
   "metadata": {},
   "outputs": [
    {
     "data": {
      "text/plain": [
       "array([[6.3200e-03, 1.8000e+01, 2.3100e+00, ..., 1.5300e+01, 3.9690e+02,\n",
       "        4.9800e+00],\n",
       "       [2.7310e-02, 0.0000e+00, 7.0700e+00, ..., 1.7800e+01, 3.9690e+02,\n",
       "        9.1400e+00],\n",
       "       [2.7290e-02, 0.0000e+00, 7.0700e+00, ..., 1.7800e+01, 3.9283e+02,\n",
       "        4.0300e+00],\n",
       "       ...,\n",
       "       [6.0760e-02, 0.0000e+00, 1.1930e+01, ..., 2.1000e+01, 3.9690e+02,\n",
       "        5.6400e+00],\n",
       "       [1.0959e-01, 0.0000e+00, 1.1930e+01, ..., 2.1000e+01, 3.9345e+02,\n",
       "        6.4800e+00],\n",
       "       [4.7410e-02, 0.0000e+00, 1.1930e+01, ..., 2.1000e+01, 3.9690e+02,\n",
       "        7.8800e+00]])"
      ]
     },
     "execution_count": 3,
     "metadata": {},
     "output_type": "execute_result"
    }
   ],
   "source": [
    "X, y = load_boston(return_X_y=True)\n",
    "X"
   ]
  },
  {
   "cell_type": "markdown",
   "id": "6bbb67c8",
   "metadata": {},
   "source": [
    "## تقسیم داده‌ها به آموزش و آزمون، نرمالسازی و اضافه کردن ستون یک سمت چپ"
   ]
  },
  {
   "cell_type": "code",
   "execution_count": 5,
   "id": "a4efc6e8",
   "metadata": {},
   "outputs": [
    {
     "data": {
      "text/plain": [
       "array([[ 1.        , -0.02553708, -0.11908416, ...,  0.30090057,\n",
       "        -0.23861691,  0.1258244 ],\n",
       "       [ 1.        , -0.03597612, -0.11908416, ...,  0.27962397,\n",
       "         0.09962506, -0.13438531],\n",
       "       [ 1.        , -0.03235928, -0.11908416, ...,  0.00302823,\n",
       "         0.09657397, -0.09575397],\n",
       "       ...,\n",
       "       [ 1.        , -0.03561544,  0.48091584, ..., -0.00761007,\n",
       "         0.03376193, -0.20033454],\n",
       "       [ 1.        , -0.03439188, -0.11908416, ..., -0.05016326,\n",
       "         0.09962506,  0.03862793],\n",
       "       [ 1.        , -0.03512325, -0.11908416, ..., -0.06080156,\n",
       "         0.09470802,  0.0954712 ]])"
      ]
     },
     "execution_count": 5,
     "metadata": {},
     "output_type": "execute_result"
    }
   ],
   "source": [
    "X_train, X_test, y_train, y_test = train_test_split(X, y, test_size=0.2)\n",
    "X_train, X_test = normalizer(X_train, X_test)\n",
    "X_train, X_test = np.c_[np.ones(X_train.shape[0]), X_train], np.c_[np.ones(X_test.shape[0]), X_test]\n",
    "X_train"
   ]
  },
  {
   "cell_type": "markdown",
   "id": "f77b637d",
   "metadata": {},
   "source": [
    "## پیاده‌سازی ضرب ماتریس معادله نرمال"
   ]
  },
  {
   "cell_type": "markdown",
   "id": "012c4065",
   "metadata": {},
   "source": [
    "\\begin{align*}& \\theta = \\left( X^TX + \\lambda \\cdot L \\right)^{-1} X^Ty \\newline& \\text{where}\\ \\ L = \\begin{bmatrix} 0 & & & & \\newline & 1 & & & \\newline & & 1 & & \\newline & & & \\ddots & \\newline & & & & 1 \\newline\\end{bmatrix}\\end{align*}"
   ]
  },
  {
   "cell_type": "code",
   "execution_count": 8,
   "id": "b493c430",
   "metadata": {},
   "outputs": [],
   "source": [
    "theta = np.matmul(inv(np.matmul(np.transpose(X_train), X_train)), np.matmul(np.transpose(X_train), y_train))"
   ]
  },
  {
   "cell_type": "markdown",
   "id": "287a499a",
   "metadata": {},
   "source": [
    "## بررسی مقدار بدست آمده"
   ]
  },
  {
   "cell_type": "code",
   "execution_count": 9,
   "id": "35f75de8",
   "metadata": {},
   "outputs": [
    {
     "data": {
      "text/plain": [
       "array([ 22.52227723,  -9.66065182,   5.5162249 ,   1.7452387 ,\n",
       "         2.17423862,  -9.32240741,  17.91265534,   1.03004015,\n",
       "       -14.88182557,   7.37311325,  -7.09537369,  -9.54510083,\n",
       "         4.00660829, -20.01820497])"
      ]
     },
     "execution_count": 9,
     "metadata": {},
     "output_type": "execute_result"
    }
   ],
   "source": [
    "theta"
   ]
  }
 ],
 "metadata": {
  "kernelspec": {
   "display_name": "Python 3 (ipykernel)",
   "language": "python",
   "name": "python3"
  },
  "language_info": {
   "codemirror_mode": {
    "name": "ipython",
    "version": 3
   },
   "file_extension": ".py",
   "mimetype": "text/x-python",
   "name": "python",
   "nbconvert_exporter": "python",
   "pygments_lexer": "ipython3",
   "version": "3.8.10"
  }
 },
 "nbformat": 4,
 "nbformat_minor": 5
}
