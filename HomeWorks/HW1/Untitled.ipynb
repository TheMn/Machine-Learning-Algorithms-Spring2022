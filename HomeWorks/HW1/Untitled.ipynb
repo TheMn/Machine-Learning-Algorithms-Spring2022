{
 "cells": [
  {
   "cell_type": "markdown",
   "id": "cd0e68bf-b957-40f1-b05d-03f6142ab90a",
   "metadata": {},
   "source": [
    "Import libraries:"
   ]
  },
  {
   "cell_type": "code",
   "execution_count": 1,
   "id": "abf6a1ad-9ff5-4faa-b535-025ac4d20437",
   "metadata": {},
   "outputs": [],
   "source": [
    "import numpy as np\n",
    "import pandas as pd\n",
    "import matplotlib.pyplot as plt"
   ]
  },
  {
   "cell_type": "markdown",
   "id": "2bf7d18f-1fd4-4805-8577-532bfd2462e6",
   "metadata": {},
   "source": [
    "Load boston dataset from sklearn:"
   ]
  },
  {
   "cell_type": "code",
   "execution_count": 2,
   "id": "50593804-83b6-4041-8074-ae5d4f39d7c3",
   "metadata": {},
   "outputs": [],
   "source": [
    "from sklearn.datasets import load_boston\n",
    "from sklearn.model_selection import train_test_split"
   ]
  },
  {
   "cell_type": "markdown",
   "id": "2964360c-6b40-45b2-a4ef-e22184a6297f",
   "metadata": {},
   "source": [
    "Split data into 20% test and 80% train:"
   ]
  },
  {
   "cell_type": "code",
   "execution_count": 3,
   "id": "a8a23ab9-182e-458b-b650-f27a5151ac50",
   "metadata": {},
   "outputs": [],
   "source": [
    "X, y = load_boston(return_X_y=True)\n",
    "X_train, X_test, y_train, y_test = train_test_split(X, y, test_size=0.2, random_state=42)"
   ]
  },
  {
   "cell_type": "code",
   "execution_count": 4,
   "id": "1f305061-9df0-45cb-a528-78421e65706d",
   "metadata": {},
   "outputs": [
    {
     "data": {
      "text/plain": [
       "array([1.50234e+01, 0.00000e+00, 1.81000e+01, 0.00000e+00, 6.14000e-01,\n",
       "       5.30400e+00, 9.73000e+01, 2.10070e+00, 2.40000e+01, 6.66000e+02,\n",
       "       2.02000e+01, 3.49480e+02, 2.49100e+01])"
      ]
     },
     "execution_count": 4,
     "metadata": {},
     "output_type": "execute_result"
    }
   ],
   "source": [
    "X_train[0]"
   ]
  },
  {
   "cell_type": "markdown",
   "id": "7ed64c09-8695-4012-b577-f2199fb090db",
   "metadata": {},
   "source": [
    "Mean normalization:"
   ]
  },
  {
   "cell_type": "code",
   "execution_count": 5,
   "id": "81eb5cf7-e88a-4806-a807-c833364ba741",
   "metadata": {},
   "outputs": [],
   "source": [
    "from utils import mean_normalize\n",
    "X_train, X_test = mean_normalize(X_train, X_test)"
   ]
  },
  {
   "cell_type": "markdown",
   "id": "1cbfee70-7ed8-46fb-a03c-fae086178478",
   "metadata": {},
   "source": [
    "Add a column of ones left hand-side:"
   ]
  },
  {
   "cell_type": "code",
   "execution_count": 6,
   "id": "60b4fa17-594e-4ffa-8f87-1e452d4328c1",
   "metadata": {},
   "outputs": [],
   "source": [
    "X_train = np.c_[np.ones(X_train.shape[0]), X_train]\n",
    "X_test = np.c_[np.ones(X_test.shape[0]), X_test]"
   ]
  },
  {
   "cell_type": "markdown",
   "id": "b0461788-1f0c-41cf-97e9-0af8a4e4342f",
   "metadata": {},
   "source": [
    "Compute cost:"
   ]
  },
  {
   "cell_type": "code",
   "execution_count": 7,
   "id": "b759797b-d98d-49c0-a85b-b80985cbefc8",
   "metadata": {},
   "outputs": [],
   "source": [
    "def compute_cost(X, Y, theta):\n",
    "    landa = 0.1\n",
    "    m = len(Y)\n",
    "    J = (1/(2*m)) * (sum((np.matmul(X, theta) - Y)**2) + landa*sum(theta[1: ]**2))\n",
    "    return J"
   ]
  },
  {
   "cell_type": "code",
   "execution_count": 8,
   "id": "125a54b6-dd5e-444c-975a-689b2982f3fc",
   "metadata": {},
   "outputs": [
    {
     "data": {
      "text/plain": [
       "303.2776980198021"
      ]
     },
     "execution_count": 8,
     "metadata": {},
     "output_type": "execute_result"
    }
   ],
   "source": [
    "compute_cost(X_train, y_train, np.zeros(X_train.shape[1]))"
   ]
  },
  {
   "cell_type": "code",
   "execution_count": null,
   "id": "bc1906fd-21d4-4ab0-bf85-4af4399ea6d1",
   "metadata": {},
   "outputs": [],
   "source": [
    "def gradientDescent(X, y, theta, alpha):\n",
    "    j = []\n",
    "    lamda = 0.001\n",
    "    temp = [0 for _ in range(X.shape[1])]\n",
    "    batchSize = 50\n",
    "    batchCost = [0 for i in range(X.shape[1])]\n",
    "    k = 0\n",
    "    rounds = 0\n",
    "    while True:\n",
    "        rounds += 1\n",
    "        \n",
    "        if k % batchSize == 0:\n",
    "            batchCost = [0 for i in range(X.shape[1])]\n",
    "            temp[0] = theta[0] - alpha*(batchCost[0]+(sum(np.multiply((np.matmul(X, theta) - y),  X[:,0]))/X.shape[0]))\n",
    "            for i in range(1, X.shape[1]):\n",
    "                temp[i] = theta[i] - alpha*(batchCost[i]+(sum(np.multiply((np.matmul(X, theta) - y),  X[:,i])/X.shape[0] + lamda*theta[i]/X.shape[0])))\n",
    "            theta = np.array(temp)\n",
    "        else:\n",
    "            batchCost[0] += sum(np.multiply((np.matmul(X, theta) - y),  X[:,0]))/X.shape[0]\n",
    "            for i in range(1, X.shape[1]):\n",
    "                batchCost[i] += sum(np.multiply((np.matmul(X, theta) - y),  X[:,i]))/X.shape[0] + lamda*theta[i]/X.shape[0]\n",
    "        \n",
    "        k += 1\n",
    "        j.append(computeCost(X, y, theta))\n",
    "        \n",
    "        #if j.len() >= 2 and j[j.len()-1] - j[j.len()-2] < 0.000000001:\n",
    "        if rounds > 1000:\n",
    "            break\n",
    "    return theta, j"
   ]
  },
  {
   "cell_type": "code",
   "execution_count": 9,
   "id": "e0b62ef0-551b-4226-b12c-7e15dbf26015",
   "metadata": {},
   "outputs": [],
   "source": [
    "def gradient_descent(X, Y, theta, alpha):\n",
    "    landa = 0.1\n",
    "    m = len(Y)\n",
    "    J_history = []\n",
    "    tmp = []\n",
    "    batch_size = 50\n",
    "    batch_cost = np.zeros(X.shape[1])\n",
    "    rounds = 0\n",
    "\n",
    "    while True:\n",
    "        \n",
    "        if rounds % batch_size == 0:\n",
    "            \n",
    "            \n",
    "        tmp.append(theta[0] - alpha * (1/m) * sum(np.multiply(np.matmul(X, theta) - Y, X[:, 0])))\n",
    "        for i in range(1, X.shape[1]):\n",
    "            tmp.append(theta[i] - alpha * (1/m) * sum(np.multiply(np.matmul(X, theta) - Y, X[:, i])) + landa*theta[i] * 1/m)\n",
    "        \n",
    "        theta = np.array(tmp)\n",
    "        tmp = []\n",
    "        J_history.append(compute_cost(X, Y, theta))\n",
    "        \n",
    "        rounds += 1\n",
    "        if J_history.__len__() > 2:\n",
    "            if J_history[-1] - J_history[-2] < 0:\n",
    "        # if k == 3000:\n",
    "                break\n",
    "        \n",
    "    return J_history, theta"
   ]
  },
  {
   "cell_type": "code",
   "execution_count": null,
   "id": "b0153489-8b30-4a9d-9adb-ef4937caa23b",
   "metadata": {},
   "outputs": [],
   "source": []
  },
  {
   "cell_type": "code",
   "execution_count": 10,
   "id": "cce6cc18-1115-421f-ac37-f4c8d8ef9241",
   "metadata": {},
   "outputs": [],
   "source": [
    "J_history, theta = gradient_descent(X_train, y_train, [0]*14, 0.01)"
   ]
  },
  {
   "cell_type": "code",
   "execution_count": 11,
   "id": "6d55bf1a-ce36-4355-be54-1359c35bba1d",
   "metadata": {},
   "outputs": [
    {
     "data": {
      "text/plain": [
       "[<matplotlib.lines.Line2D at 0x7f51a851dca0>]"
      ]
     },
     "execution_count": 11,
     "metadata": {},
     "output_type": "execute_result"
    },
    {
     "data": {
      "image/png": "[encoded data removed]",
      "text/plain": [
       "<Figure size 432x288 with 1 Axes>"
      ]
     },
     "metadata": {
      "needs_background": "light"
     },
     "output_type": "display_data"
    }
   ],
   "source": [
    "plt.plot(range(J_history.__len__()), J_history)"
   ]
  },
  {
   "cell_type": "code",
   "execution_count": 21,
   "id": "2c19980a-a92d-4bfc-b441-1075edb720ba",
   "metadata": {},
   "outputs": [
    {
     "data": {
      "text/plain": [
       "-0.000786678168550381"
      ]
     },
     "execution_count": 21,
     "metadata": {},
     "output_type": "execute_result"
    }
   ],
   "source": [
    "J_history[-1] - J_history[-2]"
   ]
  },
  {
   "cell_type": "code",
   "execution_count": 22,
   "id": "53dc1a2d-4838-4841-bcbf-5d5386e13987",
   "metadata": {},
   "outputs": [
    {
     "data": {
      "text/plain": [
       "False"
      ]
     },
     "execution_count": 22,
     "metadata": {},
     "output_type": "execute_result"
    }
   ],
   "source": [
    "import math\n",
    "math.isclose(J_history[-1], J_history[-2])"
   ]
  },
  {
   "cell_type": "code",
   "execution_count": null,
   "id": "a71d0b1d-7b8b-42fd-8558-214efac33f9c",
   "metadata": {},
   "outputs": [],
   "source": []
  }
 ],
 "metadata": {
  "kernelspec": {
   "display_name": "Python 3 (ipykernel)",
   "language": "python",
   "name": "python3"
  },
  "language_info": {
   "codemirror_mode": {
    "name": "ipython",
    "version": 3
   },
   "file_extension": ".py",
   "mimetype": "text/x-python",
   "name": "python",
   "nbconvert_exporter": "python",
   "pygments_lexer": "ipython3",
   "version": "3.8.10"
  }
 },
 "nbformat": 4,
 "nbformat_minor": 5
}
