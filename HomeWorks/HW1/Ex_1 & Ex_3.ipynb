{
 "cells": [
  {
   "cell_type": "markdown",
   "id": "46ea162a",
   "metadata": {},
   "source": [
    "### امیرحسین مهدی‌نژاد - شماره دانشجویی ۸۱۰۸۰۰۰۵۸ - تمرین سری اول الگوریتم‌های یادگیری ماشین\n",
    "\n",
    "# پاسخ سوال‌های اول و سوم"
   ]
  },
  {
   "cell_type": "markdown",
   "id": "42a81ab0",
   "metadata": {},
   "source": [
    "## اضافه کردن کتابخانه‌های مورد استفاده"
   ]
  },
  {
   "cell_type": "code",
   "execution_count": 1,
   "id": "7fcb701a",
   "metadata": {},
   "outputs": [],
   "source": [
    "import numpy as np\n",
    "import pandas as pd\n",
    "import matplotlib.pyplot as plt\n",
    "from sklearn.datasets import load_boston\n",
    "from sklearn.model_selection import train_test_split\n",
    "from Utiles import normalizer"
   ]
  },
  {
   "cell_type": "markdown",
   "id": "44fd1111",
   "metadata": {},
   "source": [
    "## خواندن دیتاست بوستون"
   ]
  },
  {
   "cell_type": "code",
   "execution_count": 2,
   "id": "38edff92",
   "metadata": {},
   "outputs": [
    {
     "data": {
      "text/plain": [
       "array([[6.3200e-03, 1.8000e+01, 2.3100e+00, ..., 1.5300e+01, 3.9690e+02,\n",
       "        4.9800e+00],\n",
       "       [2.7310e-02, 0.0000e+00, 7.0700e+00, ..., 1.7800e+01, 3.9690e+02,\n",
       "        9.1400e+00],\n",
       "       [2.7290e-02, 0.0000e+00, 7.0700e+00, ..., 1.7800e+01, 3.9283e+02,\n",
       "        4.0300e+00],\n",
       "       ...,\n",
       "       [6.0760e-02, 0.0000e+00, 1.1930e+01, ..., 2.1000e+01, 3.9690e+02,\n",
       "        5.6400e+00],\n",
       "       [1.0959e-01, 0.0000e+00, 1.1930e+01, ..., 2.1000e+01, 3.9345e+02,\n",
       "        6.4800e+00],\n",
       "       [4.7410e-02, 0.0000e+00, 1.1930e+01, ..., 2.1000e+01, 3.9690e+02,\n",
       "        7.8800e+00]])"
      ]
     },
     "execution_count": 2,
     "metadata": {},
     "output_type": "execute_result"
    }
   ],
   "source": [
    "X, y = load_boston(return_X_y=True)\n",
    "X"
   ]
  },
  {
   "cell_type": "markdown",
   "id": "4034aadf",
   "metadata": {},
   "source": [
    "## تقسیم داده‌ها به دو قسمت آموزش و آزمون"
   ]
  },
  {
   "cell_type": "code",
   "execution_count": 3,
   "id": "4b2efc8e",
   "metadata": {},
   "outputs": [],
   "source": [
    "X_train, X_test, y_train, y_test = train_test_split(X, y, test_size=0.2)"
   ]
  },
  {
   "cell_type": "markdown",
   "id": "73bc370d",
   "metadata": {},
   "source": [
    "## Utiles نرمالسازی با استفاده از تابع پیاده‌سازی شده در فایل"
   ]
  },
  {
   "cell_type": "markdown",
   "id": "08d106eb",
   "metadata": {},
   "source": [
    "$$y_i = \\frac{x_i - \\bar{x}}{\\sigma}$$"
   ]
  },
  {
   "cell_type": "code",
   "execution_count": 4,
   "id": "b044a99c",
   "metadata": {},
   "outputs": [],
   "source": [
    "X_train, X_test = normalizer(X_train, X_test)"
   ]
  },
  {
   "cell_type": "markdown",
   "id": "7c7bc1d7",
   "metadata": {},
   "source": [
    "## اضافه کردن ستون یک سمت چپ داده‌ها"
   ]
  },
  {
   "cell_type": "code",
   "execution_count": 5,
   "id": "84ac3a64",
   "metadata": {},
   "outputs": [
    {
     "data": {
      "text/plain": [
       "array([[ 1.        , -0.03809131,  0.67563119, ...,  0.38516431,\n",
       "         0.05110808, -0.20307914],\n",
       "       [ 1.        , -0.0380966 ,  0.17563119, ..., -0.18930377,\n",
       "         0.09795865, -0.00932027],\n",
       "       [ 1.        ,  0.04392858, -0.12436881, ...,  0.19367495,\n",
       "        -0.10371567,  0.38784285],\n",
       "       ...,\n",
       "       [ 1.        ,  0.03138703, -0.12436881, ...,  0.19367495,\n",
       "        -0.09521801,  0.14358753],\n",
       "       [ 1.        , -0.03653314, -0.12436881, ...,  0.00218559,\n",
       "         0.1037078 ,  0.09110526],\n",
       "       [ 1.        , -0.03912841,  0.87563119, ..., -0.34887824,\n",
       "         0.09362157, -0.24903658]])"
      ]
     },
     "execution_count": 5,
     "metadata": {},
     "output_type": "execute_result"
    }
   ],
   "source": [
    "X_train, X_test = np.c_[np.ones(X_train.shape[0]), X_train], np.c_[np.ones(X_test.shape[0]), X_test]\n",
    "X_train"
   ]
  },
  {
   "cell_type": "markdown",
   "id": "7b5b977d",
   "metadata": {},
   "source": [
    "## پیاده‌سازی تابع هزینه"
   ]
  },
  {
   "cell_type": "markdown",
   "id": "a400cff1",
   "metadata": {},
   "source": [
    "$$J(\\theta) = \\frac{1}{2m}[\\sum_{i=1}^m(h_\\theta (x^{(i)}) - y^{(i)})^2 + \\lambda\\sum_{j=1}^n\\theta^2_j]$$"
   ]
  },
  {
   "cell_type": "code",
   "execution_count": 6,
   "id": "e827797c",
   "metadata": {},
   "outputs": [],
   "source": [
    "def computeCost_MSE(X, y, theta):\n",
    "    lamda = 0.001\n",
    "    j = (sum((np.matmul(X, theta) - y)**2) + lamda*sum(theta[1:]**2))/(2*X.shape[0]) \n",
    "    return j"
   ]
  },
  {
   "cell_type": "markdown",
   "id": "d6d104e6",
   "metadata": {},
   "source": [
    "## پیاده‌سازی تابع گرادیان کاهشی"
   ]
  },
  {
   "cell_type": "markdown",
   "id": "3d11abdf",
   "metadata": {},
   "source": [
    "\\begin{align*} & \\text{Repeat}\\ \\lbrace \\newline & \\ \\ \\ \\ \\theta_0 := \\theta_0 - \\alpha\\ \\frac{1}{m}\\ \\sum_{i=1}^m (h_\\theta(x^{(i)}) - y^{(i)})x_0^{(i)} \\newline & \\ \\ \\ \\ \\theta_j := \\theta_j - \\alpha\\ \\left[ \\left( \\frac{1}{m}\\ \\sum_{i=1}^m (h_\\theta(x^{(i)}) - y^{(i)})x_j^{(i)} \\right) + \\frac{\\lambda}{m}\\theta_j \\right] &\\ \\ \\ \\ \\ \\ \\ \\ \\ \\ j \\in \\lbrace 1,2...n\\rbrace\\newline & \\rbrace \\end{align*}\n",
    "\n",
    "$ \\text{MSE} = \\sum_{i=1}^{D}(x_i-y_i)^2 $\n",
    "\n"
   ]
  },
  {
   "cell_type": "markdown",
   "id": "3901d8af",
   "metadata": {},
   "source": [
    "سایز بچ ۵۰ تعیین شده و در نتیجه به‌ازای هر ۵۰ نمونه، تتا تا وقوع همگرایی بروز می‌شود"
   ]
  },
  {
   "cell_type": "code",
   "execution_count": 7,
   "id": "4fa682dd",
   "metadata": {},
   "outputs": [],
   "source": [
    "average_theta = []\n",
    "def gradientDescent_MSE(X, y, theta, alpha):\n",
    "    j = []\n",
    "    lamda = 0.001\n",
    "    temp = np.zeros(X.shape[1])\n",
    "    batchSize = 50\n",
    "    batchCost = np.zeros(X.shape[1])\n",
    "    rounds = 0\n",
    "    while True:\n",
    "        if rounds % batchSize == 0:\n",
    "            temp[0] = theta[0] - alpha*(batchCost[0]+(sum(np.multiply((np.matmul(X, theta) - y),  X[:,0])/X.shape[0] +lamda*theta[0]/X.shape[0])))\n",
    "            for i in range(1, X.shape[1]):\n",
    "                temp[i] = theta[i] - alpha*(batchCost[i]+(sum(np.multiply((np.matmul(X, theta) - y),  X[:,i])/X.shape[0] + lamda*theta[i]/X.shape[0])))\n",
    "            theta = np.array(temp)\n",
    "            batchCost = np.zeros(X.shape[1])\n",
    "            average_theta.append(sum(theta)/X.shape[1])\n",
    "#             print(average_theta[-1])\n",
    "        else:\n",
    "            batchCost[0] += sum(np.multiply((np.matmul(X, theta) - y),  X[:,0]))/X.shape[0]\n",
    "            for i in range(1, X.shape[1]):\n",
    "                batchCost[i] += sum(np.multiply((np.matmul(X, theta) - y),  X[:,i]))/X.shape[0] + lamda*theta[i]/X.shape[0]\n",
    "        rounds += 1\n",
    "        j.append(computeCost_MSE(X, y, theta))\n",
    "        if average_theta.__len__()>1 and abs(average_theta[-1] - average_theta[-2]) < 1e-3:\n",
    "            break\n",
    "#         if rounds > 1000:\n",
    "#             break\n",
    "    return theta, j"
   ]
  },
  {
   "cell_type": "markdown",
   "id": "99422d6a",
   "metadata": {},
   "source": [
    "## مقداردهی اولیه به آلفا و تتا"
   ]
  },
  {
   "cell_type": "code",
   "execution_count": 8,
   "id": "50f51bb8",
   "metadata": {},
   "outputs": [],
   "source": [
    "alpha = 0.01\n",
    "theta_MSE = np.zeros(X_train.shape[1]).transpose()"
   ]
  },
  {
   "cell_type": "markdown",
   "id": "87200285",
   "metadata": {},
   "source": [
    "## فراخوانی تابع گرادیان کاهشی با مقادیر تعیین شده"
   ]
  },
  {
   "cell_type": "code",
   "execution_count": 9,
   "id": "d2265696",
   "metadata": {},
   "outputs": [
    {
     "data": {
      "text/plain": [
       "array([ 22.2832177 ,  -3.92898191,   1.94298834,  -2.13416087,\n",
       "         2.52110519,  -3.98763726,  19.8841543 ,  -0.62722218,\n",
       "        -9.29965066,   3.49110118,  -4.1772112 ,  -9.85195679,\n",
       "         3.14231584, -16.49235671])"
      ]
     },
     "execution_count": 9,
     "metadata": {},
     "output_type": "execute_result"
    }
   ],
   "source": [
    "theta_MSE, costs = gradientDescent_MSE(X_train, y_train, theta_MSE, alpha)\n",
    "theta_MSE"
   ]
  },
  {
   "cell_type": "code",
   "execution_count": 10,
   "id": "7c541316",
   "metadata": {},
   "outputs": [
    {
     "data": {
      "text/plain": [
       "[<matplotlib.lines.Line2D at 0x7fbb8346a130>]"
      ]
     },
     "execution_count": 10,
     "metadata": {},
     "output_type": "execute_result"
    },
    {
     "data": {
      "image/png": "[encoded data removed]",
      "text/plain": [
       "<Figure size 432x288 with 1 Axes>"
      ]
     },
     "metadata": {
      "needs_background": "light"
     },
     "output_type": "display_data"
    }
   ],
   "source": [
    "plt.plot([i+1 for i in range(average_theta.__len__())], average_theta)"
   ]
  },
  {
   "cell_type": "markdown",
   "id": "20fb3651",
   "metadata": {},
   "source": [
    "## ترسیم نمودار هزینه"
   ]
  },
  {
   "cell_type": "code",
   "execution_count": 11,
   "id": "b3986a16",
   "metadata": {},
   "outputs": [
    {
     "data": {
      "text/plain": [
       "[<matplotlib.lines.Line2D at 0x7fbb82ce83a0>]"
      ]
     },
     "execution_count": 11,
     "metadata": {},
     "output_type": "execute_result"
    },
    {
     "data": {
      "image/png": "[encoded data removed]",
      "text/plain": [
       "<Figure size 432x288 with 1 Axes>"
      ]
     },
     "metadata": {
      "needs_background": "light"
     },
     "output_type": "display_data"
    }
   ],
   "source": [
    "plt.plot([i+1 for i in range(costs.__len__())], costs)"
   ]
  },
  {
   "cell_type": "markdown",
   "id": "5ca6d6e3",
   "metadata": {},
   "source": [
    "## استفاده از کتابخانه‌های از پیش تعریف شده برای مقایسه‌ی نتایج"
   ]
  },
  {
   "cell_type": "code",
   "execution_count": 12,
   "id": "ee7cedba",
   "metadata": {},
   "outputs": [
    {
     "name": "stdout",
     "output_type": "stream",
     "text": [
      "0.7838092297741278\n"
     ]
    },
    {
     "data": {
      "text/plain": [
       "array([  0.        ,  -9.06654307,   3.4093897 ,  -0.58116699,\n",
       "         2.11457119,  -6.69132266,  23.34189004,  -1.55341759,\n",
       "       -13.83662506,   5.21511787,  -6.00370868,  -9.56995874,\n",
       "         3.17148946, -14.10545704])"
      ]
     },
     "execution_count": 12,
     "metadata": {},
     "output_type": "execute_result"
    }
   ],
   "source": [
    "from sklearn.linear_model import LinearRegression\n",
    "\n",
    "regr_MSE = LinearRegression()\n",
    "regr_MSE.fit(X_train, y_train)\n",
    "print(regr_MSE.score(X_train, y_train))\n",
    "regr_MSE.coef_"
   ]
  },
  {
   "cell_type": "markdown",
   "id": "2fc518aa",
   "metadata": {},
   "source": [
    "## مقادیر بدست آمده"
   ]
  },
  {
   "cell_type": "code",
   "execution_count": 13,
   "id": "16dc765a",
   "metadata": {},
   "outputs": [
    {
     "data": {
      "text/plain": [
       "9.007395966337857"
      ]
     },
     "execution_count": 13,
     "metadata": {},
     "output_type": "execute_result"
    }
   ],
   "source": [
    "computeCost_MSE(X_train, y_train, theta_MSE)"
   ]
  },
  {
   "cell_type": "code",
   "execution_count": 15,
   "id": "ecf36d6c",
   "metadata": {
    "scrolled": true
   },
   "outputs": [
    {
     "data": {
      "text/plain": [
       "array([ 22.2832177 ,  -3.92898191,   1.94298834,  -2.13416087,\n",
       "         2.52110519,  -3.98763726,  19.8841543 ,  -0.62722218,\n",
       "        -9.29965066,   3.49110118,  -4.1772112 ,  -9.85195679,\n",
       "         3.14231584, -16.49235671])"
      ]
     },
     "execution_count": 15,
     "metadata": {},
     "output_type": "execute_result"
    }
   ],
   "source": [
    "theta_MSE"
   ]
  },
  {
   "cell_type": "markdown",
   "id": "5bab42cd",
   "metadata": {},
   "source": [
    "## اجرا برای دیتای تست"
   ]
  },
  {
   "cell_type": "code",
   "execution_count": 16,
   "id": "ece03fbb",
   "metadata": {},
   "outputs": [
    {
     "data": {
      "text/plain": [
       "22.110109334741292"
      ]
     },
     "execution_count": 16,
     "metadata": {},
     "output_type": "execute_result"
    }
   ],
   "source": [
    "computeCost_MSE(X_test, y_test, theta_MSE)"
   ]
  },
  {
   "cell_type": "code",
   "execution_count": 17,
   "id": "a327c250",
   "metadata": {},
   "outputs": [
    {
     "data": {
      "text/plain": [
       "0.5601330250751301"
      ]
     },
     "execution_count": 17,
     "metadata": {},
     "output_type": "execute_result"
    }
   ],
   "source": [
    "regr_MSE.score(X_test, y_test)"
   ]
  },
  {
   "cell_type": "markdown",
   "id": "b645e557",
   "metadata": {},
   "source": [
    "## MAE پیاده‌سازی با"
   ]
  },
  {
   "cell_type": "markdown",
   "id": "13bc24fa",
   "metadata": {},
   "source": [
    "$ \\text{MAE} = \\sum_{i=1}^{D}|x_i-y_i|$"
   ]
  },
  {
   "cell_type": "code",
   "execution_count": 18,
   "id": "643b0b9f",
   "metadata": {},
   "outputs": [],
   "source": [
    "def computeCost_MAE(X, y, theta):\n",
    "    lamda = 0.001\n",
    "    j = (sum(abs(np.matmul(X, theta) - y)) + lamda*sum(theta[1:]**2))/(2*X.shape[0]) \n",
    "    return j"
   ]
  },
  {
   "cell_type": "markdown",
   "id": "bc223ff4",
   "metadata": {},
   "source": [
    "$$ \\theta_0 := \\theta_0 - \\alpha \\frac{1}{m} \\sum_{i=1}^m \\frac{(h_\\theta(x^{(i)}) - y^{(i)})}{\\text{abs}(h_\\theta(x^{(i)}) - y^{(i)})} $$\n",
    "\n",
    "\n",
    "$$ \\theta_j := \\theta_j - \\alpha \\frac{1}{m} \\sum_{i=1}^m \\frac{(h_\\theta(x^{(i)}) - y^{(i)}) x_j}{\\text{abs}(h_\\theta(x^{(i)}) - y^{(i)})} $$"
   ]
  },
  {
   "cell_type": "code",
   "execution_count": 19,
   "id": "2f18aafa",
   "metadata": {},
   "outputs": [],
   "source": [
    "average_theta = []\n",
    "def gradientDescent_MAE(X, y, theta, alpha):\n",
    "    j = []\n",
    "    lamda = 0.001\n",
    "    temp = np.zeros(X.shape[1])\n",
    "    batchSize = 5\n",
    "    batchCost = np.zeros(X.shape[1])\n",
    "    rounds = 0\n",
    "    while True:\n",
    "        if rounds % batchSize == 0:\n",
    "            temp[0] = theta[0] - alpha*(batchCost[0]+(sum(np.multiply((np.matmul(X, theta) - y),  X[:,0]))))/(X.shape[0]*sum(abs(np.matmul(X, theta) - y)))\n",
    "            for i in range(1, X.shape[1]):\n",
    "                temp[i] = theta[i] - alpha*(batchCost[i]+(sum(np.multiply((np.matmul(X, theta) - y),  X[:,i]))))/(X.shape[0]*sum(abs(np.matmul(X, theta) - y))) + lamda*theta[i]/X.shape[0]\n",
    "            theta = np.array(temp)\n",
    "            batchCost = np.zeros(X.shape[1])\n",
    "            average_theta.append(sum(theta)/X.shape[1])\n",
    "        else:\n",
    "            batchCost[0] += sum(np.multiply((np.matmul(X, theta) - y),  X[:,0]))/(X.shape[0]*sum(abs((np.matmul(X, theta) - y))))\n",
    "            for i in range(1, X.shape[1]):\n",
    "                batchCost[i] += sum(np.multiply((np.matmul(X, theta) - y),  X[:,i]))/(X.shape[0]*sum(abs((np.matmul(X, theta) - y)))) + lamda*theta[i]/X.shape[0]\n",
    "        rounds += 1\n",
    "        j.append(computeCost_MAE(X, y, theta))\n",
    "        if average_theta.__len__()>1 and abs(average_theta[-1] - average_theta[-2]) < 1e-5:\n",
    "            break\n",
    "    return theta, j"
   ]
  },
  {
   "cell_type": "markdown",
   "id": "f3571c48",
   "metadata": {},
   "source": [
    "## فراخوانی تابع با مقادیر پیش‌فرض"
   ]
  },
  {
   "cell_type": "code",
   "execution_count": 20,
   "id": "f9e0055e",
   "metadata": {},
   "outputs": [],
   "source": [
    "alpha = 0.001\n",
    "theta_MAE = np.zeros(X_train.shape[1]).transpose()\n",
    "theta_MAE, costs = gradientDescent_MAE(X_train, y_train, theta_MAE, alpha)"
   ]
  },
  {
   "cell_type": "code",
   "execution_count": 21,
   "id": "c43a175a",
   "metadata": {},
   "outputs": [
    {
     "data": {
      "text/plain": [
       "11.141829207919427"
      ]
     },
     "execution_count": 21,
     "metadata": {},
     "output_type": "execute_result"
    }
   ],
   "source": [
    "computeCost_MAE(X_train, y_train, theta_MAE)"
   ]
  },
  {
   "cell_type": "markdown",
   "id": "8173f303",
   "metadata": {},
   "source": [
    "## مقایسه با توابع آماده"
   ]
  },
  {
   "cell_type": "code",
   "execution_count": 23,
   "id": "73380661",
   "metadata": {},
   "outputs": [
    {
     "name": "stdout",
     "output_type": "stream",
     "text": [
      "0.7773220664409815\n"
     ]
    },
    {
     "data": {
      "text/plain": [
       "array([ 11.08019418,  -4.0522474 ,   1.99939549,  -2.00772862,\n",
       "         2.48136188,  -4.14474642,  20.08896811,  -0.64973014,\n",
       "        -9.51559677,   3.55879384,  -4.27925437,  -9.82223126,\n",
       "         3.12683118, -16.46358395])"
      ]
     },
     "execution_count": 23,
     "metadata": {},
     "output_type": "execute_result"
    }
   ],
   "source": [
    "from sklearn.linear_model import LinearRegression, SGDRegressor\n",
    "\n",
    "regr_MAE = SGDRegressor(epsilon=0)\n",
    "regr_MAE.fit(X_train, y_train)\n",
    "print(regr_MAE.score(X_train, y_train))\n",
    "regr_MAE.coef_"
   ]
  },
  {
   "cell_type": "code",
   "execution_count": 24,
   "id": "e4bd4b59",
   "metadata": {},
   "outputs": [
    {
     "data": {
      "text/plain": [
       "array([ 4.95049777e-06, -7.75607167e-08,  1.98137749e-07, -2.74127105e-07,\n",
       "        6.81189188e-08, -2.17646045e-07,  1.96053202e-07, -2.44043248e-07,\n",
       "        1.18386537e-07, -3.25700919e-07, -3.33370578e-07, -2.60989121e-07,\n",
       "        1.61238430e-07, -3.03045554e-07])"
      ]
     },
     "execution_count": 24,
     "metadata": {},
     "output_type": "execute_result"
    }
   ],
   "source": [
    "theta_MAE"
   ]
  },
  {
   "cell_type": "markdown",
   "id": "e336b225",
   "metadata": {},
   "source": [
    "نتیجه‌ی ما واضحا بدتر بود"
   ]
  },
  {
   "cell_type": "markdown",
   "id": "f148fb38",
   "metadata": {},
   "source": [
    "## اجرا برای داده‌های تست"
   ]
  },
  {
   "cell_type": "code",
   "execution_count": 25,
   "id": "bd0b1633",
   "metadata": {},
   "outputs": [
    {
     "data": {
      "text/plain": [
       "11.759801459186956"
      ]
     },
     "execution_count": 25,
     "metadata": {},
     "output_type": "execute_result"
    }
   ],
   "source": [
    "computeCost_MAE(X_test, y_test, theta_MAE)"
   ]
  },
  {
   "cell_type": "code",
   "execution_count": 26,
   "id": "24641a90",
   "metadata": {},
   "outputs": [
    {
     "data": {
      "text/plain": [
       "0.5508182470639431"
      ]
     },
     "execution_count": 26,
     "metadata": {},
     "output_type": "execute_result"
    }
   ],
   "source": [
    "regr_MAE.score(X_test, y_test)"
   ]
  }
 ],
 "metadata": {
  "kernelspec": {
   "display_name": "Python 3 (ipykernel)",
   "language": "python",
   "name": "python3"
  },
  "language_info": {
   "codemirror_mode": {
    "name": "ipython",
    "version": 3
   },
   "file_extension": ".py",
   "mimetype": "text/x-python",
   "name": "python",
   "nbconvert_exporter": "python",
   "pygments_lexer": "ipython3",
   "version": "3.8.10"
  }
 },
 "nbformat": 4,
 "nbformat_minor": 5
}
