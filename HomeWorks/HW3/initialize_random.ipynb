{
 "cells": [
  {
   "cell_type": "markdown",
   "id": "7513d72d-53f9-40ca-af54-60969fce3213",
   "metadata": {},
   "source": [
    "# ![LOGO](utlogo.png)\n",
    "\n",
    "### تمرین سوم درس الگوریتم‌های یادگیری ماشین - امیرحسین مهدی‌نژاد - شماره دانشجویی ۸۱۰۸۰۰۰۵۸"
   ]
  },
  {
   "cell_type": "code",
   "execution_count": 1,
   "id": "228412d6-d274-4454-9668-ea662a71be6f",
   "metadata": {},
   "outputs": [
    {
     "data": {
      "text/html": [
       "<style>.jp-RenderedMarkdown{direction:rtl;display:flex;flex-direction:column;font-family:'IRANSans,Tahoma,Helvetica,sans-serif';margin-top:10px;font-size:1.1rem;direction:rtl}mark{color:#FFF;padding:3px; background-color:#AAAAAAA0}</style>"
      ],
      "text/plain": [
       "<IPython.core.display.HTML object>"
      ]
     },
     "execution_count": 1,
     "metadata": {},
     "output_type": "execute_result"
    }
   ],
   "source": [
    "from IPython.core.display import HTML\n",
    "HTML(\"<style>.jp-RenderedMarkdown{direction:rtl;display:flex;flex-direction:column;font-family:'IRANSans,Tahoma,Helvetica,sans-serif';margin-top:10px;font-size:1.1rem;direction:rtl}mark{color:#FFF;padding:3px; background-color:#AAAAAAA0}</style>\")"
   ]
  },
  {
   "cell_type": "markdown",
   "id": "8a058b55-c2c9-4f02-bd6e-5629654c93e9",
   "metadata": {},
   "source": [
    "### سوال سوم\n",
    "##### توابع پیاده‌سازی شده در سوال اول بجز initialize و model در فایل جداگانه‌ای به اسم my_functions ذخیره شده و در ادامه از آن‌ها استفاده خواهد شد"
   ]
  },
  {
   "cell_type": "code",
   "execution_count": 19,
   "id": "670f80df-dc73-4b6f-a05e-b1733ede640d",
   "metadata": {},
   "outputs": [],
   "source": [
    "import h5py\n",
    "import numpy as np\n",
    "import matplotlib.pyplot as plt\n",
    "from my_functions import *"
   ]
  },
  {
   "cell_type": "markdown",
   "id": "7231542c-e23b-4a53-b4f4-5169b41550b1",
   "metadata": {},
   "source": [
    "##### وزن‌ها به صورت رندوم از بازه‌ی l تا h مقدار می‌گیرند"
   ]
  },
  {
   "cell_type": "code",
   "execution_count": 17,
   "id": "3d5ae073-565d-4b19-beb8-f94c0f516a34",
   "metadata": {},
   "outputs": [],
   "source": [
    "def init_random(dim, h, l):\n",
    "    return np.random.uniform(low=l, high=h, size=(dim, 1)), 0"
   ]
  },
  {
   "cell_type": "markdown",
   "id": "2e25268d-b6ac-4676-a936-cd8f72976087",
   "metadata": {},
   "source": [
    "##### پارامترهای l و h به مدل نیز اضافه شدند تا بر آن اساس مقداردهی اولیه صورت گیرد"
   ]
  },
  {
   "cell_type": "code",
   "execution_count": 18,
   "id": "fd563f26-ca63-429f-8236-86b95ae18d44",
   "metadata": {},
   "outputs": [],
   "source": [
    "def model(X_train, y_train, X_test, y_test, l, h, num_iterations = 2000, lr = 0.005):\n",
    "   \n",
    "    w, b = init_random(X_train.shape[0], l, h)\n",
    "\n",
    "    parameters, gradients, costs = optimize(w, b, X_train, y_train, num_iterations, lr)\n",
    "    \n",
    "    w, b = parameters['w'], parameters['b']\n",
    "\n",
    "    y_pred_train = predict(w, b, X_train)\n",
    "    y_pred_test = predict(w, b, X_test)\n",
    "    \n",
    "    print('train acc: {}'.format(100 - np.mean(np.abs(y_pred_train - y_train)) * 100),\\\n",
    "        'test acc: {}'.format(100 - np.mean(np.abs(y_pred_test - y_test)) * 100) )\n",
    "\n",
    "    return {'y_pred_train': y_pred_train,\n",
    "            'y_pred_test': y_pred_test,\n",
    "            'w': w,\n",
    "            'b': b,\n",
    "            'costs': costs}"
   ]
  },
  {
   "cell_type": "markdown",
   "id": "4cfb37f3-d5ae-4f29-9f93-ff2d2793d46e",
   "metadata": {},
   "source": [
    "##### تقسیم داده‌ها به آموزش و آزمون"
   ]
  },
  {
   "cell_type": "code",
   "execution_count": 20,
   "id": "16795c40-f730-4fa0-9e20-5392cf091e9c",
   "metadata": {},
   "outputs": [],
   "source": [
    "x_train, y_train, x_test, y_test, classes = load_dataset('../../data/train_catvnoncat.h5', '../../data/test_catvnoncat.h5')"
   ]
  },
  {
   "cell_type": "markdown",
   "id": "5a066e23-8311-4789-bdb7-d7db297061b2",
   "metadata": {},
   "source": [
    "##### وکتورسازی و نرمال کردن داده‌ها با توجه به نکته‌ی ذکر شده در صورت تمرین"
   ]
  },
  {
   "cell_type": "code",
   "execution_count": 21,
   "id": "d8d40dc5-2b08-40a9-a27d-ed65382767de",
   "metadata": {},
   "outputs": [],
   "source": [
    "x_train = (x_train.reshape(x_train.shape[0], -1).T)/255\n",
    "x_test = (x_test.reshape(x_test.shape[0], -1).T)/255"
   ]
  },
  {
   "cell_type": "markdown",
   "id": "25ba3f85-a84d-4da5-86fe-d0faeccf0962",
   "metadata": {},
   "source": [
    "##### نمودار هزینه بر حسب هر ۱۰۰ اجرا رسم شده و accuracy بدست آمد:"
   ]
  },
  {
   "cell_type": "code",
   "execution_count": 23,
   "id": "d246eda0-82dc-430b-8a95-493b51810f8e",
   "metadata": {},
   "outputs": [
    {
     "name": "stderr",
     "output_type": "stream",
     "text": [
      "/home/themn/Documents/Projects/Machine-Learning-Algorithms-Spring2022/HomeWorks/HW3/my_functions.py:43: RuntimeWarning: divide by zero encountered in log\n",
      "  cost = -(1/m)*(np.sum(y*np.log(activation) + (1-y)*np.log(1-activation)))\n",
      "/home/themn/Documents/Projects/Machine-Learning-Algorithms-Spring2022/HomeWorks/HW3/my_functions.py:43: RuntimeWarning: invalid value encountered in multiply\n",
      "  cost = -(1/m)*(np.sum(y*np.log(activation) + (1-y)*np.log(1-activation)))\n"
     ]
    },
    {
     "name": "stdout",
     "output_type": "stream",
     "text": [
      "0th iteration cost: nan\n",
      "100th iteration cost: nan\n",
      "200th iteration cost: nan\n",
      "300th iteration cost: nan\n",
      "400th iteration cost: nan\n",
      "500th iteration cost: nan\n",
      "600th iteration cost: nan\n",
      "700th iteration cost: nan\n",
      "800th iteration cost: nan\n",
      "900th iteration cost: inf\n",
      "1000th iteration cost: inf\n",
      "1100th iteration cost: 1.4176880760285575\n",
      "1200th iteration cost: 0.943469343165678\n",
      "1300th iteration cost: 0.7261768032242926\n",
      "1400th iteration cost: 0.5852658339273076\n",
      "1500th iteration cost: 0.48267783460723357\n",
      "1600th iteration cost: 0.416897382744757\n",
      "1700th iteration cost: 0.3709972924849695\n",
      "1800th iteration cost: 0.334171317133272\n",
      "1900th iteration cost: 0.3028646186323489\n",
      "train acc: 90.43062200956938 test acc: 64.0\n"
     ]
    },
    {
     "data": {
      "image/png": "[encoded data removed]",
      "text/plain": [
       "<Figure size 432x288 with 1 Axes>"
      ]
     },
     "metadata": {
      "needs_background": "light"
     },
     "output_type": "display_data"
    }
   ],
   "source": [
    "res01 = model(x_train, y_train, x_test, y_test, 0, 1)\n",
    "\n",
    "plt.plot(np.squeeze(res01['costs']))\n",
    "plt.ylabel('cost')\n",
    "plt.xlabel('iterations')\n",
    "plt.show()"
   ]
  },
  {
   "cell_type": "code",
   "execution_count": 24,
   "id": "2255509f-8482-4aa6-8f02-50a0b1fbeb17",
   "metadata": {},
   "outputs": [
    {
     "name": "stdout",
     "output_type": "stream",
     "text": [
      "0th iteration cost: 14.882338939029387\n",
      "100th iteration cost: 3.3179297651565185\n",
      "200th iteration cost: 2.4781356300205224\n",
      "300th iteration cost: 2.0334464716888707\n",
      "400th iteration cost: 1.7392625730925142\n",
      "500th iteration cost: 1.5017517482777132\n",
      "600th iteration cost: 1.3026292121004488\n",
      "700th iteration cost: 1.1348874598063803\n",
      "800th iteration cost: 0.9936552707983992\n",
      "900th iteration cost: 0.8749200859476476\n",
      "1000th iteration cost: 0.7745754552954048\n",
      "1100th iteration cost: 0.6877215514029242\n",
      "1200th iteration cost: 0.6110138386410465\n",
      "1300th iteration cost: 0.5427129784037135\n",
      "1400th iteration cost: 0.48211103910976766\n",
      "1500th iteration cost: 0.4291536358304072\n",
      "1600th iteration cost: 0.3835785016618891\n",
      "1700th iteration cost: 0.3443734822958883\n",
      "1800th iteration cost: 0.31049998956113634\n",
      "1900th iteration cost: 0.2812871855302819\n",
      "train acc: 91.38755980861244 test acc: 60.0\n"
     ]
    },
    {
     "data": {
      "image/png": "[encoded data removed]",
      "text/plain": [
       "<Figure size 432x288 with 1 Axes>"
      ]
     },
     "metadata": {
      "needs_background": "light"
     },
     "output_type": "display_data"
    }
   ],
   "source": [
    "res_11 = model(x_train, y_train, x_test, y_test, -1, 1)\n",
    "\n",
    "plt.plot(np.squeeze(res_11['costs']))\n",
    "plt.ylabel('cost')\n",
    "plt.xlabel('iterations')\n",
    "plt.show()"
   ]
  },
  {
   "cell_type": "markdown",
   "id": "802401bf-fe57-48fc-a211-527f712661cb",
   "metadata": {},
   "source": [
    "#### نتایج نهایی\n",
    "##### با مقداردهی رندوم در بازه‌ی منفی یک تا ۱: دقت آموزش ۹۱.۳ و آزمون ۶۰ درصد\n",
    "##### با مقداردهی رندوم در بازه‌ی صفر تا یک: دقت آموزش ۹۰.۴ و آزمون ۶۴ درصد"
   ]
  },
  {
   "cell_type": "markdown",
   "id": "c18b408d-f8e5-4ce3-98e7-f74a5ccbd95b",
   "metadata": {},
   "source": [
    "#### واضحا مقداردهی اولیه صفر، نتیجه‌ی بهتری برای داده‌های آزمون داشته است"
   ]
  }
 ],
 "metadata": {
  "kernelspec": {
   "display_name": "Python 3 (ipykernel)",
   "language": "python",
   "name": "python3"
  },
  "language_info": {
   "codemirror_mode": {
    "name": "ipython",
    "version": 3
   },
   "file_extension": ".py",
   "mimetype": "text/x-python",
   "name": "python",
   "nbconvert_exporter": "python",
   "pygments_lexer": "ipython3",
   "version": "3.8.10"
  }
 },
 "nbformat": 4,
 "nbformat_minor": 5
}
