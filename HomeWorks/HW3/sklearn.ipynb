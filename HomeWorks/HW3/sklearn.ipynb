{
 "cells": [
  {
   "cell_type": "markdown",
   "id": "c141f865-89ff-4949-8d3e-17e0a699e6d8",
   "metadata": {},
   "source": [
    "# ![LOGO](utlogo.png)\n",
    "\n",
    "### تمرین سوم درس الگوریتم‌های یادگیری ماشین - امیرحسین مهدی‌نژاد - شماره دانشجویی ۸۱۰۸۰۰۰۵۸"
   ]
  },
  {
   "cell_type": "code",
   "execution_count": 9,
   "id": "3011b806-b2a9-4a35-bce7-4a09b763d6f8",
   "metadata": {},
   "outputs": [
    {
     "data": {
      "text/html": [
       "<style>.jp-RenderedMarkdown{direction:rtl;display:flex;flex-direction:column;font-family:'IRANSans,Tahoma,Helvetica,sans-serif';margin-top:10px;font-size:1.1rem;direction:rtl}mark{color:#FFF;padding:3px; background-color:#AAAAAAA0}</style>"
      ],
      "text/plain": [
       "<IPython.core.display.HTML object>"
      ]
     },
     "execution_count": 9,
     "metadata": {},
     "output_type": "execute_result"
    }
   ],
   "source": [
    "from IPython.core.display import HTML\n",
    "HTML(\"<style>.jp-RenderedMarkdown{direction:rtl;display:flex;flex-direction:column;font-family:'IRANSans,Tahoma,Helvetica,sans-serif';margin-top:10px;font-size:1.1rem;direction:rtl}mark{color:#FFF;padding:3px; background-color:#AAAAAAA0}</style>\")"
   ]
  },
  {
   "cell_type": "markdown",
   "id": "e2e9fa8f-19f3-4c86-ba99-f86ca504f935",
   "metadata": {},
   "source": [
    "### سوال دوم\n",
    "#### اضافه کردن کتابخانه‌های مورد استفاده\n",
    "##### در اینجا تابع load_dataset که مشابه با سوال اول بوده، از فایل my_functions مورد استفاده قرار گرفته است"
   ]
  },
  {
   "cell_type": "code",
   "execution_count": 3,
   "id": "8491a9b1-5c1d-4722-ac0d-68c4fbf5df7c",
   "metadata": {},
   "outputs": [],
   "source": [
    "from my_functions import load_dataset\n",
    "import numpy as np\n",
    "from sklearn.neural_network import MLPClassifier\n",
    "import pandas as pd\n",
    "import matplotlib.pyplot as plt"
   ]
  },
  {
   "cell_type": "markdown",
   "id": "2666e03f-dc26-4ebf-8516-093eaa4ee959",
   "metadata": {},
   "source": [
    "#### لود کردن دیتا و آماده‌سازی برای یادگیری"
   ]
  },
  {
   "cell_type": "code",
   "execution_count": 4,
   "id": "be18bb67-6dfd-4a8e-ba5e-38a1af9f780e",
   "metadata": {},
   "outputs": [],
   "source": [
    "x_train, y_train, x_test, y_test, classes = load_dataset('../../data/train_catvnoncat.h5', '../../data/test_catvnoncat.h5')\n",
    "x_train = (x_train.reshape(x_train.shape[0], -1).T)/255\n",
    "x_test = (x_test.reshape(x_test.shape[0], -1).T)/255"
   ]
  },
  {
   "cell_type": "markdown",
   "id": "b29b43a0-eaa5-4733-838f-12c41b6d6089",
   "metadata": {
    "tags": []
   },
   "source": [
    "##### دیتا برای فیت شدن در کلاس‌بندهای sklearn به صورت دو بعدی ذخیره شد"
   ]
  },
  {
   "cell_type": "code",
   "execution_count": 27,
   "id": "65804409-7f03-4840-ac4a-8fbb40318d1c",
   "metadata": {},
   "outputs": [],
   "source": [
    "nsamples, nx, ny, nz = x_train.shape\n",
    "reshaped_x_train = x_train.reshape((nsamples, nx*ny*nz))\n",
    "\n",
    "nsamples, nx, ny, nz = x_test.shape\n",
    "reshaped_x_test = x_test.reshape((nsamples, nx*ny*nz))"
   ]
  },
  {
   "cell_type": "code",
   "execution_count": 30,
   "id": "682777c0-7c41-4d05-9be6-1eb66561a59a",
   "metadata": {},
   "outputs": [
    {
     "data": {
      "text/plain": [
       "(50, 12288)"
      ]
     },
     "execution_count": 30,
     "metadata": {},
     "output_type": "execute_result"
    }
   ],
   "source": [
    "reshaped_x_test.shape"
   ]
  },
  {
   "cell_type": "code",
   "execution_count": 31,
   "id": "fa13d941-d974-4594-babc-046d06b84e1f",
   "metadata": {},
   "outputs": [
    {
     "data": {
      "text/plain": [
       "(1, 50)"
      ]
     },
     "execution_count": 31,
     "metadata": {},
     "output_type": "execute_result"
    }
   ],
   "source": [
    "y_test.shape"
   ]
  },
  {
   "cell_type": "markdown",
   "id": "d9149571-2152-4790-914f-1da09fc77829",
   "metadata": {},
   "source": [
    "##### چهار لایه مخفی با نورون های مختلف در هر لایه مدل سازی کرده ایم. با در نظر گرفتن لایه ورودی و خروجی، مجموعاً ۶ لایه در مدل داریم."
   ]
  },
  {
   "cell_type": "code",
   "execution_count": 54,
   "id": "b6487891-aafa-4e24-a964-ec916b74a295",
   "metadata": {},
   "outputs": [
    {
     "name": "stderr",
     "output_type": "stream",
     "text": [
      "/home/themn/.local/lib/python3.8/site-packages/sklearn/neural_network/_multilayer_perceptron.py:934: DataConversionWarning: A column-vector y was passed when a 1d array was expected. Please change the shape of y to (n_samples, ), for example using ravel().\n",
      "  y = column_or_1d(y, warn=True)\n"
     ]
    }
   ],
   "source": [
    "classifier_relu = MLPClassifier(hidden_layer_sizes=(64, 32, 16, 8),\\\n",
    "                           activation=\"relu\",\\\n",
    "                           random_state=42).fit(reshaped_x_train, y_train.T)\n",
    "y_pred = classifier_relu.predict(reshaped_x_test)"
   ]
  },
  {
   "cell_type": "code",
   "execution_count": 55,
   "id": "82dd939a-f408-4bd0-9aaa-c28d727bca24",
   "metadata": {},
   "outputs": [
    {
     "name": "stdout",
     "output_type": "stream",
     "text": [
      "0.76\n"
     ]
    }
   ],
   "source": [
    "print(classifier_relu.score(reshaped_x_test, y_test.T))"
   ]
  },
  {
   "cell_type": "markdown",
   "id": "03ef5d8f-9c18-4f83-9b4c-e71a9769be3d",
   "metadata": {},
   "source": [
    "##### این بار تابع فعال‌ساز را تغییر می‌دهیم"
   ]
  },
  {
   "cell_type": "code",
   "execution_count": 58,
   "id": "34a736cf-be6d-46be-bf37-d79f795880ec",
   "metadata": {},
   "outputs": [
    {
     "name": "stderr",
     "output_type": "stream",
     "text": [
      "/home/themn/.local/lib/python3.8/site-packages/sklearn/neural_network/_multilayer_perceptron.py:934: DataConversionWarning: A column-vector y was passed when a 1d array was expected. Please change the shape of y to (n_samples, ), for example using ravel().\n",
      "  y = column_or_1d(y, warn=True)\n"
     ]
    }
   ],
   "source": [
    "classifier_logistic = MLPClassifier(hidden_layer_sizes=(64, 32, 16, 8),\\\n",
    "                           activation=\"logistic\",\\\n",
    "                           random_state=42).fit(reshaped_x_train, y_train.T)\n",
    "y_pred = classifier_logistic.predict(reshaped_x_test)"
   ]
  },
  {
   "cell_type": "code",
   "execution_count": 59,
   "id": "a447b875-1211-4c9c-bc85-08c274c84b84",
   "metadata": {},
   "outputs": [
    {
     "name": "stdout",
     "output_type": "stream",
     "text": [
      "0.34\n"
     ]
    }
   ],
   "source": [
    "print(classifier_logistic.score(reshaped_x_test, y_test.T))"
   ]
  }
 ],
 "metadata": {
  "kernelspec": {
   "display_name": "Python 3 (ipykernel)",
   "language": "python",
   "name": "python3"
  },
  "language_info": {
   "codemirror_mode": {
    "name": "ipython",
    "version": 3
   },
   "file_extension": ".py",
   "mimetype": "text/x-python",
   "name": "python",
   "nbconvert_exporter": "python",
   "pygments_lexer": "ipython3",
   "version": "3.8.10"
  }
 },
 "nbformat": 4,
 "nbformat_minor": 5
}
