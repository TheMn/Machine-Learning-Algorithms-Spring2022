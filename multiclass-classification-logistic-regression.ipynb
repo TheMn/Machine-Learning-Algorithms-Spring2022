{
 "cells": [
  {
   "cell_type": "code",
   "execution_count": 1,
   "id": "cb02e814-c18b-41a3-95b9-8a3610f79367",
   "metadata": {},
   "outputs": [],
   "source": [
    "import matplotlib.pyplot as plt\n",
    "import numpy as np\n",
    "import scipy.io"
   ]
  },
  {
   "cell_type": "code",
   "execution_count": 2,
   "id": "758e0bf7-1017-49da-8b09-a8e519dc910d",
   "metadata": {},
   "outputs": [],
   "source": [
    "data = scipy.io.loadmat('ex3data1.mat')"
   ]
  },
  {
   "cell_type": "code",
   "execution_count": 3,
   "id": "94cda366-55f2-45a6-9553-ea58f9b81e53",
   "metadata": {},
   "outputs": [],
   "source": [
    "X, Y = data['X'], data['y']"
   ]
  },
  {
   "cell_type": "code",
   "execution_count": 4,
   "id": "809516d3-84bf-4f56-be05-b27bdc4ad795",
   "metadata": {},
   "outputs": [
    {
     "data": {
      "text/plain": [
       "array([[0., 0., 0., ..., 0., 0., 0.],\n",
       "       [0., 0., 0., ..., 0., 0., 0.],\n",
       "       [0., 0., 0., ..., 0., 0., 0.],\n",
       "       ...,\n",
       "       [0., 0., 0., ..., 0., 0., 0.],\n",
       "       [0., 0., 0., ..., 0., 0., 0.],\n",
       "       [0., 0., 0., ..., 0., 0., 0.]])"
      ]
     },
     "execution_count": 4,
     "metadata": {},
     "output_type": "execute_result"
    }
   ],
   "source": [
    "X"
   ]
  },
  {
   "cell_type": "code",
   "execution_count": 5,
   "id": "7b96b89f-9bcd-48e7-9af8-f47fe963515a",
   "metadata": {},
   "outputs": [
    {
     "data": {
      "text/plain": [
       "(5000, 400)"
      ]
     },
     "execution_count": 5,
     "metadata": {},
     "output_type": "execute_result"
    }
   ],
   "source": [
    "X.shape"
   ]
  },
  {
   "cell_type": "code",
   "execution_count": 6,
   "id": "a323499c-f6ff-4bf1-9e93-5c749651cef5",
   "metadata": {},
   "outputs": [
    {
     "data": {
      "text/plain": [
       "(5000, 1)"
      ]
     },
     "execution_count": 6,
     "metadata": {},
     "output_type": "execute_result"
    }
   ],
   "source": [
    "Y.shape"
   ]
  },
  {
   "cell_type": "markdown",
   "id": "bf89a17a-d755-4ac5-b7ad-d504d4ba4df0",
   "metadata": {},
   "source": [
    "# Visualizing the data"
   ]
  },
  {
   "cell_type": "code",
   "execution_count": 7,
   "id": "6feca5b1-d892-4185-b040-3ee3c049fb94",
   "metadata": {},
   "outputs": [
    {
     "data": {
      "text/plain": [
       "<matplotlib.image.AxesImage at 0x7f37026842b0>"
      ]
     },
     "execution_count": 7,
     "metadata": {},
     "output_type": "execute_result"
    },
    {
     "data": {
      "image/png": "[encoded data removed]",
      "text/plain": [
       "<Figure size 288x288 with 1 Axes>"
      ]
     },
     "metadata": {
      "needs_background": "light"
     },
     "output_type": "display_data"
    }
   ],
   "source": [
    "plt.matshow(X[np.random.randint(X.shape[0])].reshape(20, 20, order='F'), cmap=plt.get_cmap('gray'))\n",
    "# plt.imshow(X[np.random.randint(X.shape[0])].reshape(20, 20).transpose(), cmap=plt.get_cmap('gray'))"
   ]
  },
  {
   "cell_type": "code",
   "execution_count": 9,
   "id": "5645d906-7932-4031-93cc-44d52f0103a1",
   "metadata": {},
   "outputs": [
    {
     "data": {
      "image/png": "[encoded data removed]",
      "text/plain": [
       "<Figure size 432x288 with 25 Axes>"
      ]
     },
     "metadata": {
      "needs_background": "light"
     },
     "output_type": "display_data"
    }
   ],
   "source": [
    "rows, cols = 5, 5\n",
    "fig, axes = plt.subplots(rows, cols)\n",
    "rand_data = None\n",
    "\n",
    "for row in axes:\n",
    "    for col in row:\n",
    "        rand_data = np.random.randint(X.shape[0])\n",
    "        col.matshow(X[rand_data].reshape(20, 20, order='F'), cmap=plt.get_cmap('binary'))\n",
    "        col.axes.xaxis.set_visible(False)\n",
    "        col.axes.yaxis.set_visible(False)\n",
    "        col.set_title(str(Y[rand_data]))\n",
    "fig.tight_layout()"
   ]
  },
  {
   "cell_type": "code",
   "execution_count": 10,
   "id": "fa91232a-0400-41b6-b49a-9691f01c804e",
   "metadata": {},
   "outputs": [],
   "source": [
    "X = np.c_[X.shape[0]*[1],X]"
   ]
  },
  {
   "cell_type": "code",
   "execution_count": 16,
   "id": "ac48cb07-a78f-45cd-b73c-285469279c3e",
   "metadata": {},
   "outputs": [
    {
     "data": {
      "text/plain": [
       "(5000, 11)"
      ]
     },
     "execution_count": 16,
     "metadata": {},
     "output_type": "execute_result"
    }
   ],
   "source": [
    "y = np.zeros((Y.size, Y.max()+1))\n",
    "y[ np.arange(Y.size), np.transpose(Y) ] = 1\n",
    "y.shape"
   ]
  },
  {
   "cell_type": "code",
   "execution_count": 18,
   "id": "4d61e39a-0fa9-48f5-9b16-ce5d01c357ea",
   "metadata": {},
   "outputs": [
    {
     "data": {
      "text/plain": [
       "array([0., 0., 0., ..., 0., 0., 0.])"
      ]
     },
     "execution_count": 18,
     "metadata": {},
     "output_type": "execute_result"
    }
   ],
   "source": [
    "y[:,1]"
   ]
  },
  {
   "cell_type": "code",
   "execution_count": 24,
   "id": "28795460-5ced-456e-b81b-d26a02a55d91",
   "metadata": {},
   "outputs": [
    {
     "data": {
      "text/plain": [
       "14"
      ]
     },
     "execution_count": 24,
     "metadata": {},
     "output_type": "execute_result"
    }
   ],
   "source": [
    "sum(np.array( [1, 2, 3] )**2)"
   ]
  },
  {
   "cell_type": "code",
   "execution_count": 25,
   "id": "1f359420-27f8-472c-ae82-03df3e0d3bb3",
   "metadata": {},
   "outputs": [],
   "source": [
    "def compute_cost(theta, X, Y):\n",
    "    landa = 0.1\n",
    "    m = X.shape[0]\n",
    "    return -1/m * sum( \\\n",
    "                      np.multiply(Y, np.log( 1/(1 + np.exp(-np.matmul(X, theta))) )) \\\n",
    "                      + np.multiply( (1 - Y), np.log(1 - 1/(1 + np.exp(-np.matmul(X, theta)))) ) ) \\\n",
    "+ landa*sum(np.array(theta)**2)/(2*m)"
   ]
  },
  {
   "cell_type": "code",
   "execution_count": 26,
   "id": "de2550bd-2b30-4f14-99ed-e923bb4ae5ba",
   "metadata": {},
   "outputs": [
    {
     "data": {
      "text/plain": [
       "0.6931471805599918"
      ]
     },
     "execution_count": 26,
     "metadata": {},
     "output_type": "execute_result"
    }
   ],
   "source": [
    "compute_cost([0]*401, X, y[:,1])"
   ]
  },
  {
   "cell_type": "code",
   "execution_count": 39,
   "id": "61e6e701-1c87-4a4a-b96c-f7018a3f6e5f",
   "metadata": {},
   "outputs": [],
   "source": [
    "def gradient(theta, X, Y):\n",
    "    landa = 0.1\n",
    "    m = X.shape[0]\n",
    "    return np.matmul( \\\n",
    "                     np.transpose(1/(1 + np.exp(-np.matmul(X, theta))) - Y ), X) / m \\\n",
    "+ landa/m * sum(theta)"
   ]
  },
  {
   "cell_type": "code",
   "execution_count": 40,
   "id": "21a563a5-4e5e-41d8-a5d4-0488c9fcd2cd",
   "metadata": {},
   "outputs": [
    {
     "data": {
      "text/plain": [
       "array([ 4.00000000e-01,  0.00000000e+00,  0.00000000e+00,  7.74530186e-08,\n",
       "       -9.97070738e-07, -1.15631298e-06,  6.44538994e-05,  7.50594141e-05,\n",
       "        4.03447712e-05,  9.68564474e-06,  2.18079282e-05,  7.05070976e-06,\n",
       "       -5.42333538e-06, -1.19247007e-05, -1.96991592e-05, -2.38992290e-05,\n",
       "       -1.78751787e-05, -7.19873366e-06, -4.63698993e-08,  7.31889978e-08,\n",
       "        0.00000000e+00,  2.46800109e-08, -2.04588780e-07, -1.03629082e-06,\n",
       "        2.53608388e-10, -1.12721490e-05,  4.68488817e-05,  3.12233725e-04,\n",
       "        4.68399106e-04,  3.64627681e-04,  1.39936378e-04, -3.86095673e-05,\n",
       "       -5.98996068e-05,  2.28370157e-05,  1.04388617e-04,  1.42061981e-04,\n",
       "        9.58477754e-05,  2.34739073e-05, -2.13109773e-05, -4.44090414e-06,\n",
       "       -8.85893246e-07, -2.11721903e-07,  1.63089560e-06, -6.32532759e-06,\n",
       "        1.13485408e-04,  4.58223112e-04,  1.10837520e-03,  2.01684316e-03,\n",
       "        2.63625890e-03,  2.00149518e-03,  8.65868704e-04,  4.46336950e-04,\n",
       "        2.31495409e-04,  1.45025337e-04,  6.30719562e-04,  1.13393304e-03,\n",
       "        1.06643830e-03,  6.26702390e-04,  2.01246586e-04, -6.03025424e-06,\n",
       "        3.15735872e-06, -9.06529139e-07,  4.50237269e-06,  3.25975449e-05,\n",
       "        3.94291861e-04,  1.46866786e-03,  4.52457177e-03,  7.73178822e-03,\n",
       "        9.71778491e-03,  9.86404664e-03,  1.02342386e-02,  1.21406368e-02,\n",
       "        1.29846134e-02,  1.19883180e-02,  1.14011853e-02,  1.14589395e-02,\n",
       "        9.14856448e-03,  5.02566040e-03,  1.73531097e-03,  3.72011979e-04,\n",
       "        7.26711891e-05, -1.16829725e-06,  2.94529208e-06, -1.83871802e-05,\n",
       "        5.61743886e-04,  4.10795793e-03,  1.16660591e-02,  2.08615419e-02,\n",
       "        2.78376211e-02,  3.33764508e-02,  4.10748996e-02,  4.75543777e-02,\n",
       "        4.47597901e-02,  3.50159588e-02,  3.41848625e-02,  3.84449421e-02,\n",
       "        3.40225464e-02,  2.01139100e-02,  6.92304785e-03,  2.14249315e-03,\n",
       "        4.59160471e-04,  1.85316125e-05,  4.74125426e-05, -4.29198901e-04,\n",
       "        1.63780786e-03,  1.08336568e-02,  2.99596323e-02,  5.28914424e-02,\n",
       "        7.09513154e-02,  8.70222866e-02,  1.01813216e-01,  1.01563177e-01,\n",
       "        8.23024206e-02,  6.20507892e-02,  5.84014840e-02,  6.95359157e-02,\n",
       "        7.48149653e-02,  5.57928897e-02,  2.33256348e-02,  7.40781261e-03,\n",
       "        1.28518893e-03,  4.06328533e-05,  2.38517601e-04, -8.88157287e-04,\n",
       "        2.94904460e-03,  2.37598603e-02,  6.34169606e-02,  1.02622629e-01,\n",
       "        1.32665373e-01,  1.52418757e-01,  1.61633674e-01,  1.46576145e-01,\n",
       "        1.12314845e-01,  8.20040609e-02,  7.31350581e-02,  8.86257916e-02,\n",
       "        1.13584508e-01,  1.06885369e-01,  5.04004794e-02,  1.39858722e-02,\n",
       "        1.97456148e-03,  1.53593226e-05,  4.60144538e-04, -1.00086241e-03,\n",
       "        1.03674539e-02,  5.00555233e-02,  1.10468592e-01,  1.61315990e-01,\n",
       "        1.87100490e-01,  1.89616249e-01,  1.82852139e-01,  1.58927621e-01,\n",
       "        1.24292560e-01,  9.33079543e-02,  8.47817835e-02,  1.05483954e-01,\n",
       "        1.50795002e-01,  1.59377347e-01,  7.93607678e-02,  1.89387433e-02,\n",
       "        2.57055076e-03,  2.21614737e-05,  3.86008955e-04, -6.68820375e-04,\n",
       "        2.43475159e-02,  8.56459819e-02,  1.58858502e-01,  1.99790732e-01,\n",
       "        1.90832965e-01,  1.70287683e-01,  1.64176202e-01,  1.56332776e-01,\n",
       "        1.35130256e-01,  1.03457568e-01,  9.28512277e-02,  1.26453983e-01,\n",
       "        1.85736363e-01,  1.92242845e-01,  9.37582477e-02,  1.89933965e-02,\n",
       "        2.84644777e-03, -1.15862660e-05,  5.85337662e-04,  1.42102136e-03,\n",
       "        4.37951126e-02,  1.26555958e-01,  1.98386004e-01,  2.02598279e-01,\n",
       "        1.59315800e-01,  1.39615193e-01,  1.58713216e-01,  1.80444171e-01,\n",
       "        1.63077950e-01,  1.23853448e-01,  1.17143158e-01,  1.60584740e-01,\n",
       "        2.13303671e-01,  1.99421422e-01,  9.33962077e-02,  1.84509030e-02,\n",
       "        3.01316776e-03, -1.45608141e-04,  1.76507327e-03,  7.91624530e-03,\n",
       "        6.66500655e-02,  1.63742499e-01,  2.15751734e-01,  1.83894403e-01,\n",
       "        1.34109391e-01,  1.34300121e-01,  1.78000313e-01,  2.09465622e-01,\n",
       "        1.89702647e-01,  1.54494842e-01,  1.52256781e-01,  1.89773408e-01,\n",
       "        2.17664220e-01,  1.77427896e-01,  7.84850318e-02,  1.71942100e-02,\n",
       "        2.78250585e-03, -3.03860655e-04,  3.15580255e-03,  1.45932937e-02,\n",
       "        7.85677890e-02,  1.72154376e-01,  2.11434648e-01,  1.75025458e-01,\n",
       "        1.37627349e-01,  1.48949433e-01,  1.95753792e-01,  2.18240799e-01,\n",
       "        1.94498777e-01,  1.65152223e-01,  1.64894476e-01,  1.88998971e-01,\n",
       "        1.87560886e-01,  1.32363216e-01,  5.53184282e-02,  1.36438840e-02,\n",
       "        2.06738384e-03, -3.58116304e-04,  3.89020482e-03,  1.76888472e-02,\n",
       "        7.68481371e-02,  1.55512254e-01,  1.96956604e-01,  1.77801569e-01,\n",
       "        1.54422376e-01,  1.63882390e-01,  1.90168175e-01,  1.97550573e-01,\n",
       "        1.80320595e-01,  1.59203326e-01,  1.57195787e-01,  1.59249986e-01,\n",
       "        1.30626820e-01,  8.02139570e-02,  3.24797072e-02,  8.64676224e-03,\n",
       "        1.24032984e-03, -2.75369577e-04,  2.86521375e-03,  1.40063778e-02,\n",
       "        6.22287080e-02,  1.26003924e-01,  1.68900354e-01,  1.70006295e-01,\n",
       "        1.53517053e-01,  1.48751248e-01,  1.48189520e-01,  1.45451343e-01,\n",
       "        1.40650262e-01,  1.33319840e-01,  1.24366427e-01,  1.05347812e-01,\n",
       "        7.24862574e-02,  4.05196723e-02,  1.66410276e-02,  4.18362673e-03,\n",
       "        4.51562263e-04, -1.04208757e-04,  1.32296560e-03,  7.54693836e-03,\n",
       "        3.97495688e-02,  8.58544572e-02,  1.25199861e-01,  1.36412473e-01,\n",
       "        1.24863824e-01,  1.08462182e-01,  9.89644060e-02,  1.00236486e-01,\n",
       "        1.01404583e-01,  9.37995372e-02,  7.54832906e-02,  5.24151356e-02,\n",
       "        2.98157626e-02,  1.63487854e-02,  8.17693594e-03,  2.47329641e-03,\n",
       "        1.92340092e-04, -1.34338644e-05,  3.21467233e-04,  2.70720087e-03,\n",
       "        1.98065755e-02,  4.80902798e-02,  7.47159692e-02,  8.45727706e-02,\n",
       "        7.46866727e-02,  6.21379272e-02,  6.03727080e-02,  6.41053713e-02,\n",
       "        6.09545884e-02,  4.80735733e-02,  3.06781578e-02,  1.61182348e-02,\n",
       "        6.33131449e-03,  4.15096931e-03,  3.34489054e-03,  1.29349403e-03,\n",
       "        1.83163392e-04,  3.80691040e-06, -8.07292960e-05,  8.21214669e-04,\n",
       "        1.03021010e-02,  2.71684118e-02,  4.08764115e-02,  4.18878429e-02,\n",
       "        3.39799146e-02,  3.01657136e-02,  3.18450923e-02,  3.29000722e-02,\n",
       "        2.79220382e-02,  1.66536860e-02,  6.04916195e-03,  4.50108657e-04,\n",
       "       -5.37780407e-04,  6.30454592e-04,  9.37220568e-04,  4.06049435e-04,\n",
       "        6.28619383e-05,  1.65709205e-06, -6.39941689e-05,  6.22492699e-05,\n",
       "        3.45649740e-03,  1.16034772e-02,  1.73612537e-02,  1.42189030e-02,\n",
       "        7.72154920e-03,  6.89762652e-03,  8.60555229e-03,  8.86641837e-03,\n",
       "        6.29823533e-03,  1.22863528e-03, -2.20475927e-03, -2.58293026e-03,\n",
       "       -1.39495967e-03, -1.76131957e-04,  1.21738639e-04,  3.77997568e-05,\n",
       "       -4.67571644e-06, -6.72317538e-08,  1.46795003e-06, -4.59718095e-05,\n",
       "        1.85534341e-04,  2.10208614e-03,  4.28118731e-03,  2.67968969e-03,\n",
       "        4.87239021e-04, -1.09242846e-04, -3.64749472e-05,  1.71985873e-04,\n",
       "       -3.94014500e-04, -1.22594601e-03, -1.00467712e-03, -6.07221448e-04,\n",
       "       -2.51557319e-04, -8.32794067e-05, -7.52627288e-06, -4.78290101e-06,\n",
       "       -4.18215550e-07,  0.00000000e+00,  1.05102805e-07, -1.95161734e-06,\n",
       "       -2.87221031e-06,  1.57142644e-04,  2.43340045e-04,  5.42869009e-05,\n",
       "       -9.20135067e-06,  4.78637357e-05, -2.41529973e-05, -6.55355052e-05,\n",
       "       -3.33311734e-05, -7.31404481e-07,  1.19350267e-04,  3.66552798e-05,\n",
       "        5.05254647e-05,  1.85548066e-06, -3.09691819e-06,  2.13711874e-07,\n",
       "        0.00000000e+00])"
      ]
     },
     "execution_count": 40,
     "metadata": {},
     "output_type": "execute_result"
    }
   ],
   "source": [
    "gradient([0]*401, X, y[:,2])"
   ]
  },
  {
   "cell_type": "code",
   "execution_count": 43,
   "id": "b577b895-30ea-46f2-a897-749dcefcb7cf",
   "metadata": {},
   "outputs": [],
   "source": [
    "from scipy.optimize import minimize\n",
    "result=[]\n",
    "for i in range(10):\n",
    "    result.append(minimize(compute_cost, x0=[0]*401, args=(X, np.transpose(y)[i+1]), method ='CG', jac=gradient))"
   ]
  },
  {
   "cell_type": "code",
   "execution_count": 65,
   "id": "d8f970e1-881f-4f9c-9087-3b23ba83203e",
   "metadata": {},
   "outputs": [],
   "source": [
    "def sigmoid(z):\n",
    "    return 1 / (1 + np.exp(-z))"
   ]
  },
  {
   "cell_type": "code",
   "execution_count": 71,
   "id": "96bdb650-b123-4034-b844-e53149617a6a",
   "metadata": {},
   "outputs": [
    {
     "data": {
      "text/plain": [
       "0.9998560767321241"
      ]
     },
     "execution_count": 71,
     "metadata": {},
     "output_type": "execute_result"
    }
   ],
   "source": [
    "sigmoid(np.matmul(result[9].x, np.transpose(X)))[0]"
   ]
  },
  {
   "cell_type": "markdown",
   "id": "e170b065-8609-425f-80ec-90c52bdf142b",
   "metadata": {},
   "source": [
    "so first row belongs zeros class"
   ]
  }
 ],
 "metadata": {
  "kernelspec": {
   "display_name": "Python 3 (ipykernel)",
   "language": "python",
   "name": "python3"
  },
  "language_info": {
   "codemirror_mode": {
    "name": "ipython",
    "version": 3
   },
   "file_extension": ".py",
   "mimetype": "text/x-python",
   "name": "python",
   "nbconvert_exporter": "python",
   "pygments_lexer": "ipython3",
   "version": "3.8.10"
  }
 },
 "nbformat": 4,
 "nbformat_minor": 5
}
