{
 "cells": [
  {
   "cell_type": "code",
   "execution_count": 1,
   "id": "c333b531-fecd-47a1-aaff-aeaca218e4b3",
   "metadata": {},
   "outputs": [],
   "source": [
    "import numpy as np\n",
    "import pandas as pd\n",
    "import matplotlib.pyplot as plt"
   ]
  },
  {
   "cell_type": "code",
   "execution_count": 2,
   "id": "9be7a9dd-5141-4265-93ab-c1f09e25924b",
   "metadata": {},
   "outputs": [
    {
     "data": {
      "text/html": [
       "<div>\n",
       "<style scoped>\n",
       "    .dataframe tbody tr th:only-of-type {\n",
       "        vertical-align: middle;\n",
       "    }\n",
       "\n",
       "    .dataframe tbody tr th {\n",
       "        vertical-align: top;\n",
       "    }\n",
       "\n",
       "    .dataframe thead th {\n",
       "        text-align: right;\n",
       "    }\n",
       "</style>\n",
       "<table border=\"1\" class=\"dataframe\">\n",
       "  <thead>\n",
       "    <tr style=\"text-align: right;\">\n",
       "      <th></th>\n",
       "      <th>0</th>\n",
       "      <th>1</th>\n",
       "      <th>2</th>\n",
       "    </tr>\n",
       "  </thead>\n",
       "  <tbody>\n",
       "    <tr>\n",
       "      <th>0</th>\n",
       "      <td>34.623660</td>\n",
       "      <td>78.024693</td>\n",
       "      <td>0</td>\n",
       "    </tr>\n",
       "    <tr>\n",
       "      <th>1</th>\n",
       "      <td>30.286711</td>\n",
       "      <td>43.894998</td>\n",
       "      <td>0</td>\n",
       "    </tr>\n",
       "    <tr>\n",
       "      <th>2</th>\n",
       "      <td>35.847409</td>\n",
       "      <td>72.902198</td>\n",
       "      <td>0</td>\n",
       "    </tr>\n",
       "    <tr>\n",
       "      <th>3</th>\n",
       "      <td>60.182599</td>\n",
       "      <td>86.308552</td>\n",
       "      <td>1</td>\n",
       "    </tr>\n",
       "    <tr>\n",
       "      <th>4</th>\n",
       "      <td>79.032736</td>\n",
       "      <td>75.344376</td>\n",
       "      <td>1</td>\n",
       "    </tr>\n",
       "  </tbody>\n",
       "</table>\n",
       "</div>"
      ],
      "text/plain": [
       "           0          1  2\n",
       "0  34.623660  78.024693  0\n",
       "1  30.286711  43.894998  0\n",
       "2  35.847409  72.902198  0\n",
       "3  60.182599  86.308552  1\n",
       "4  79.032736  75.344376  1"
      ]
     },
     "execution_count": 2,
     "metadata": {},
     "output_type": "execute_result"
    }
   ],
   "source": [
    "df = pd.read_csv('ex2data1.txt', header=None)\n",
    "df.head()"
   ]
  },
  {
   "cell_type": "code",
   "execution_count": 3,
   "id": "f87f8823-59f5-4586-a973-648877e504fe",
   "metadata": {},
   "outputs": [
    {
     "data": {
      "text/plain": [
       "(100, 3)"
      ]
     },
     "execution_count": 3,
     "metadata": {},
     "output_type": "execute_result"
    }
   ],
   "source": [
    "X = df.loc[:, :1]\n",
    "X = np.c_[np.ones(df.shape[0]), X]\n",
    "\n",
    "Y = df.loc[:, 2]\n",
    "X.shape"
   ]
  },
  {
   "cell_type": "code",
   "execution_count": 11,
   "id": "1dbe36bc-bdb4-4a17-8843-fe7f79a2320d",
   "metadata": {},
   "outputs": [],
   "source": [
    "def compute_cost(theta, X, Y):\n",
    "    m = X.shape[0]\n",
    "    return -1/m * sum( np.multiply(Y, np.log( 1/(1 + np.exp(-np.matmul(X, theta))) )) + np.multiply( (1 - Y), np.log(1 - 1/(1 + np.exp(-np.matmul(X, theta)))) ) )"
   ]
  },
  {
   "cell_type": "code",
   "execution_count": 14,
   "id": "c34b7ab2-0ee6-43aa-a99f-57745dffcd92",
   "metadata": {},
   "outputs": [],
   "source": [
    "def gradient(theta, X, Y):\n",
    "    m = X.shape[0]\n",
    "    return np.matmul( np.transpose(1/(1 + np.exp(-np.matmul(X, theta))) - Y ), X) / m"
   ]
  },
  {
   "cell_type": "code",
   "execution_count": 19,
   "id": "097e4de8-311f-4ae1-be88-694e7dd88c6c",
   "metadata": {},
   "outputs": [
    {
     "name": "stderr",
     "output_type": "stream",
     "text": [
      "/tmp/ipykernel_403039/2096433953.py:3: RuntimeWarning: divide by zero encountered in log\n",
      "  return -1/m * sum( np.multiply(Y, np.log( 1/(1 + np.exp(-np.matmul(X, theta))) )) + np.multiply( (1 - Y), np.log(1 - 1/(1 + np.exp(-np.matmul(X, theta)))) ) )\n"
     ]
    }
   ],
   "source": [
    "from scipy.optimize import minimize\n",
    "result = minimize(compute_cost, x0=[0, 0, 0], args=(X, Y), method ='CG', jac=gradient)"
   ]
  },
  {
   "cell_type": "code",
   "execution_count": 20,
   "id": "91238303-f4e3-43a1-90d6-ff44753e7663",
   "metadata": {},
   "outputs": [],
   "source": [
    "cost = result.fun\n",
    "theta = result.x"
   ]
  },
  {
   "cell_type": "code",
   "execution_count": 21,
   "id": "6ae73653-bdf1-481e-be6a-bd825041e6f7",
   "metadata": {},
   "outputs": [
    {
     "data": {
      "text/plain": [
       "array([-25.15951923,   0.2062172 ,   0.20145692])"
      ]
     },
     "execution_count": 21,
     "metadata": {},
     "output_type": "execute_result"
    }
   ],
   "source": [
    "theta"
   ]
  },
  {
   "cell_type": "code",
   "execution_count": 22,
   "id": "4a8faeb6-c18c-4d36-93c7-a8a673f9a563",
   "metadata": {},
   "outputs": [
    {
     "data": {
      "text/plain": [
       "0.20349770207898846"
      ]
     },
     "execution_count": 22,
     "metadata": {},
     "output_type": "execute_result"
    }
   ],
   "source": [
    "cost"
   ]
  },
  {
   "cell_type": "code",
   "execution_count": 34,
   "id": "aa61f77e-2afe-43b6-a6ed-72328be11240",
   "metadata": {},
   "outputs": [
    {
     "data": {
      "text/plain": [
       "<matplotlib.colorbar.Colorbar at 0x7fd83c370280>"
      ]
     },
     "execution_count": 34,
     "metadata": {},
     "output_type": "execute_result"
    },
    {
     "data": {
      "image/png": "[encoded data removed]",
      "text/plain": [
       "<Figure size 432x288 with 2 Axes>"
      ]
     },
     "metadata": {
      "needs_background": "light"
     },
     "output_type": "display_data"
    }
   ],
   "source": [
    "plt.scatter(X[:, 1], Y, c=X[:, 2])\n",
    "plt.colorbar()"
   ]
  },
  {
   "cell_type": "code",
   "execution_count": 26,
   "id": "46be4f55-5418-4aac-b1f0-e98155de9ce2",
   "metadata": {},
   "outputs": [
    {
     "data": {
      "text/plain": [
       "<matplotlib.colorbar.Colorbar at 0x7fd83ebf3760>"
      ]
     },
     "execution_count": 26,
     "metadata": {},
     "output_type": "execute_result"
    },
    {
     "data": {
      "image/png": "[encoded data removed]",
      "text/plain": [
       "<Figure size 432x288 with 2 Axes>"
      ]
     },
     "metadata": {
      "needs_background": "light"
     },
     "output_type": "display_data"
    }
   ],
   "source": [
    "plt.scatter(X[:, 1], X[:, 2], c=Y)\n",
    "plt.colorbar()"
   ]
  },
  {
   "cell_type": "code",
   "execution_count": 29,
   "id": "6e477ad6-64e8-444c-8881-b591fdb65cc2",
   "metadata": {},
   "outputs": [],
   "source": [
    "h_theta = np.matmul(X, np.transpose(theta) )"
   ]
  },
  {
   "cell_type": "code",
   "execution_count": null,
   "id": "993a776c-6770-4989-8bf6-74e1aba0c1af",
   "metadata": {},
   "outputs": [],
   "source": []
  },
  {
   "cell_type": "code",
   "execution_count": null,
   "id": "bcb34488-58e7-4376-88ec-eaa889b0eabc",
   "metadata": {},
   "outputs": [],
   "source": []
  },
  {
   "cell_type": "code",
   "execution_count": null,
   "id": "e88a201a-aeec-476f-a767-a82b07bd9dea",
   "metadata": {},
   "outputs": [],
   "source": []
  },
  {
   "cell_type": "code",
   "execution_count": null,
   "id": "56cc01da-ca35-4809-b7ec-de6c1c3daee4",
   "metadata": {},
   "outputs": [],
   "source": []
  },
  {
   "cell_type": "code",
   "execution_count": 18,
   "id": "9288113e-431a-495d-aee8-965fe4cf9752",
   "metadata": {},
   "outputs": [
    {
     "data": {
      "text/plain": [
       "0.693147180559946"
      ]
     },
     "execution_count": 18,
     "metadata": {},
     "output_type": "execute_result"
    }
   ],
   "source": [
    "compute_cost(theta)"
   ]
  },
  {
   "cell_type": "code",
   "execution_count": 19,
   "id": "5727cb1c-261d-4edb-ad51-0d9b91773b37",
   "metadata": {},
   "outputs": [
    {
     "data": {
      "text/plain": [
       "0    -0.693147\n",
       "1    -0.693147\n",
       "2    -0.693147\n",
       "3    -0.693147\n",
       "4    -0.693147\n",
       "        ...   \n",
       "95   -0.693147\n",
       "96   -0.693147\n",
       "97   -0.693147\n",
       "98   -0.693147\n",
       "99   -0.693147\n",
       "Name: 2, Length: 100, dtype: float64"
      ]
     },
     "execution_count": 19,
     "metadata": {},
     "output_type": "execute_result"
    }
   ],
   "source": [
    "np.multiply(Y, np.log( 1/(1 + np.exp(-np.matmul(X, theta))) )) + np.multiply( (1 - Y), np.log(1 - 1/(1 + np.exp(-np.matmul(X, theta)))) )"
   ]
  },
  {
   "cell_type": "code",
   "execution_count": 20,
   "id": "1d01a1a9-188b-4e50-8693-2848a6908977",
   "metadata": {},
   "outputs": [
    {
     "name": "stderr",
     "output_type": "stream",
     "text": [
      "/tmp/ipykernel_397007/3013826245.py:3: RuntimeWarning: divide by zero encountered in log\n",
      "  cost = -1/m * sum( np.multiply(Y, np.log( 1/(1 + np.exp(-np.matmul(X, theta))) )) + np.multiply( (1 - Y), np.log(1 - 1/(1 + np.exp(-np.matmul(X, theta)))) ) )\n",
      "/tmp/ipykernel_397007/3013826245.py:3: RuntimeWarning: divide by zero encountered in log\n",
      "  cost = -1/m * sum( np.multiply(Y, np.log( 1/(1 + np.exp(-np.matmul(X, theta))) )) + np.multiply( (1 - Y), np.log(1 - 1/(1 + np.exp(-np.matmul(X, theta)))) ) )\n",
      "/tmp/ipykernel_397007/3013826245.py:3: RuntimeWarning: divide by zero encountered in log\n",
      "  cost = -1/m * sum( np.multiply(Y, np.log( 1/(1 + np.exp(-np.matmul(X, theta))) )) + np.multiply( (1 - Y), np.log(1 - 1/(1 + np.exp(-np.matmul(X, theta)))) ) )\n"
     ]
    }
   ],
   "source": [
    "from scipy.optimize import minimize\n",
    "\n",
    "cost = minimize(compute_cost, x0=[0, 0, 0], method='CG')"
   ]
  },
  {
   "cell_type": "code",
   "execution_count": 21,
   "id": "b591e3ae-a9c7-4ad5-90f5-684e09a876cd",
   "metadata": {},
   "outputs": [
    {
     "data": {
      "text/plain": [
       "     fun: nan\n",
       "     jac: array([nan, nan, nan])\n",
       " message: 'NaN result encountered.'\n",
       "    nfev: 448\n",
       "     nit: 1\n",
       "    njev: 112\n",
       "  status: 3\n",
       " success: False\n",
       "       x: array([  6.28160469, 754.37095591, 707.48666413])"
      ]
     },
     "execution_count": 21,
     "metadata": {},
     "output_type": "execute_result"
    }
   ],
   "source": [
    "cost"
   ]
  },
  {
   "cell_type": "code",
   "execution_count": null,
   "id": "c2809453-385f-4f13-803a-bc76de5b0e72",
   "metadata": {},
   "outputs": [],
   "source": []
  },
  {
   "cell_type": "code",
   "execution_count": null,
   "id": "259bb197-0f17-4920-9fd1-528e0970c359",
   "metadata": {},
   "outputs": [],
   "source": []
  },
  {
   "cell_type": "markdown",
   "id": "fc0e4608-4f2f-42c7-a1bb-f5ae63e5cbae",
   "metadata": {},
   "source": [
    "<hr>"
   ]
  },
  {
   "cell_type": "code",
   "execution_count": 1,
   "id": "8b2fbeb4-58ea-4552-9d5a-3f9660197664",
   "metadata": {},
   "outputs": [],
   "source": [
    "import numpy as np\n",
    "import pandas as pd\n",
    "import matplotlib.pyplot as plt"
   ]
  },
  {
   "cell_type": "code",
   "execution_count": 2,
   "id": "5b83e1a3-74b0-47ff-ad1b-35aeba2030ed",
   "metadata": {},
   "outputs": [
    {
     "data": {
      "text/html": [
       "<div>\n",
       "<style scoped>\n",
       "    .dataframe tbody tr th:only-of-type {\n",
       "        vertical-align: middle;\n",
       "    }\n",
       "\n",
       "    .dataframe tbody tr th {\n",
       "        vertical-align: top;\n",
       "    }\n",
       "\n",
       "    .dataframe thead th {\n",
       "        text-align: right;\n",
       "    }\n",
       "</style>\n",
       "<table border=\"1\" class=\"dataframe\">\n",
       "  <thead>\n",
       "    <tr style=\"text-align: right;\">\n",
       "      <th></th>\n",
       "      <th>SAT</th>\n",
       "      <th>Admitted</th>\n",
       "    </tr>\n",
       "  </thead>\n",
       "  <tbody>\n",
       "    <tr>\n",
       "      <th>0</th>\n",
       "      <td>1363</td>\n",
       "      <td>No</td>\n",
       "    </tr>\n",
       "    <tr>\n",
       "      <th>1</th>\n",
       "      <td>1792</td>\n",
       "      <td>Yes</td>\n",
       "    </tr>\n",
       "    <tr>\n",
       "      <th>2</th>\n",
       "      <td>1954</td>\n",
       "      <td>Yes</td>\n",
       "    </tr>\n",
       "    <tr>\n",
       "      <th>3</th>\n",
       "      <td>1653</td>\n",
       "      <td>No</td>\n",
       "    </tr>\n",
       "    <tr>\n",
       "      <th>4</th>\n",
       "      <td>1593</td>\n",
       "      <td>No</td>\n",
       "    </tr>\n",
       "  </tbody>\n",
       "</table>\n",
       "</div>"
      ],
      "text/plain": [
       "    SAT Admitted\n",
       "0  1363       No\n",
       "1  1792      Yes\n",
       "2  1954      Yes\n",
       "3  1653       No\n",
       "4  1593       No"
      ]
     },
     "execution_count": 2,
     "metadata": {},
     "output_type": "execute_result"
    }
   ],
   "source": [
    "df = pd.read_csv('admittance.csv')\n",
    "df.head()"
   ]
  },
  {
   "cell_type": "code",
   "execution_count": 3,
   "id": "04df47f3-e8db-46db-a786-f57b161a5fc2",
   "metadata": {},
   "outputs": [
    {
     "data": {
      "text/html": [
       "<div>\n",
       "<style scoped>\n",
       "    .dataframe tbody tr th:only-of-type {\n",
       "        vertical-align: middle;\n",
       "    }\n",
       "\n",
       "    .dataframe tbody tr th {\n",
       "        vertical-align: top;\n",
       "    }\n",
       "\n",
       "    .dataframe thead th {\n",
       "        text-align: right;\n",
       "    }\n",
       "</style>\n",
       "<table border=\"1\" class=\"dataframe\">\n",
       "  <thead>\n",
       "    <tr style=\"text-align: right;\">\n",
       "      <th></th>\n",
       "      <th>SAT</th>\n",
       "      <th>Admitted</th>\n",
       "    </tr>\n",
       "  </thead>\n",
       "  <tbody>\n",
       "    <tr>\n",
       "      <th>0</th>\n",
       "      <td>1363</td>\n",
       "      <td>0</td>\n",
       "    </tr>\n",
       "    <tr>\n",
       "      <th>1</th>\n",
       "      <td>1792</td>\n",
       "      <td>1</td>\n",
       "    </tr>\n",
       "    <tr>\n",
       "      <th>2</th>\n",
       "      <td>1954</td>\n",
       "      <td>1</td>\n",
       "    </tr>\n",
       "    <tr>\n",
       "      <th>3</th>\n",
       "      <td>1653</td>\n",
       "      <td>0</td>\n",
       "    </tr>\n",
       "    <tr>\n",
       "      <th>4</th>\n",
       "      <td>1593</td>\n",
       "      <td>0</td>\n",
       "    </tr>\n",
       "    <tr>\n",
       "      <th>...</th>\n",
       "      <td>...</td>\n",
       "      <td>...</td>\n",
       "    </tr>\n",
       "    <tr>\n",
       "      <th>163</th>\n",
       "      <td>1722</td>\n",
       "      <td>1</td>\n",
       "    </tr>\n",
       "    <tr>\n",
       "      <th>164</th>\n",
       "      <td>1750</td>\n",
       "      <td>1</td>\n",
       "    </tr>\n",
       "    <tr>\n",
       "      <th>165</th>\n",
       "      <td>1555</td>\n",
       "      <td>0</td>\n",
       "    </tr>\n",
       "    <tr>\n",
       "      <th>166</th>\n",
       "      <td>1524</td>\n",
       "      <td>0</td>\n",
       "    </tr>\n",
       "    <tr>\n",
       "      <th>167</th>\n",
       "      <td>1461</td>\n",
       "      <td>0</td>\n",
       "    </tr>\n",
       "  </tbody>\n",
       "</table>\n",
       "<p>168 rows × 2 columns</p>\n",
       "</div>"
      ],
      "text/plain": [
       "      SAT  Admitted\n",
       "0    1363         0\n",
       "1    1792         1\n",
       "2    1954         1\n",
       "3    1653         0\n",
       "4    1593         0\n",
       "..    ...       ...\n",
       "163  1722         1\n",
       "164  1750         1\n",
       "165  1555         0\n",
       "166  1524         0\n",
       "167  1461         0\n",
       "\n",
       "[168 rows x 2 columns]"
      ]
     },
     "execution_count": 3,
     "metadata": {},
     "output_type": "execute_result"
    }
   ],
   "source": [
    "df['Admitted'] = df['Admitted'].map({'Yes': 1, 'No': 0})\n",
    "# df['Gender'] = df['Gender'].map({'Male': 1, 'Female': 0})\n",
    "df"
   ]
  },
  {
   "cell_type": "markdown",
   "id": "526950ed-1338-44d5-985c-a676377e1b27",
   "metadata": {},
   "source": [
    "$$ J(\\theta) = - \\frac{1}{m} \\sum(  (y^{(i)}\\log(h(X)) + (1 - y^{(i)})(\\log(1 - h(X)))  ) $$"
   ]
  },
  {
   "cell_type": "code",
   "execution_count": 4,
   "id": "5b549eff-be0f-4d92-bf6e-06b4b16d8184",
   "metadata": {},
   "outputs": [
    {
     "data": {
      "text/plain": [
       "<matplotlib.collections.PathCollection at 0x7fce74d9c130>"
      ]
     },
     "execution_count": 4,
     "metadata": {},
     "output_type": "execute_result"
    },
    {
     "data": {
      "image/png": "[encoded data removed]",
      "text/plain": [
       "<Figure size 432x288 with 1 Axes>"
      ]
     },
     "metadata": {
      "needs_background": "light"
     },
     "output_type": "display_data"
    }
   ],
   "source": [
    "plt.scatter(df['SAT'], df['Admitted'])"
   ]
  },
  {
   "cell_type": "code",
   "execution_count": 5,
   "id": "88eaac52-30a4-4ab3-8081-798f1238e584",
   "metadata": {},
   "outputs": [
    {
     "data": {
      "text/plain": [
       "(168, 2)"
      ]
     },
     "execution_count": 5,
     "metadata": {},
     "output_type": "execute_result"
    }
   ],
   "source": [
    "X = df['SAT']\n",
    "Y = df['Admitted'].to_numpy()\n",
    "# difference = (np.max(X) - np.min(X)) # Scaling\n",
    "X = np.c_[np.ones(df.shape[0]), X]\n",
    "X.shape"
   ]
  },
  {
   "cell_type": "markdown",
   "id": "04ff1358-f292-4820-821d-7f6993fca9d9",
   "metadata": {},
   "source": [
    "$$ h(X) = \\frac{1}{1-e^{- \\theta X}} $$"
   ]
  },
  {
   "cell_type": "code",
   "execution_count": 40,
   "id": "797e026d-f92c-4b95-b937-9b1a058fd089",
   "metadata": {},
   "outputs": [
    {
     "data": {
      "text/plain": [
       "inf"
      ]
     },
     "execution_count": 40,
     "metadata": {},
     "output_type": "execute_result"
    }
   ],
   "source": [
    "s = [1, 2, np.inf, np.inf]\n",
    "sum(s)"
   ]
  },
  {
   "cell_type": "code",
   "execution_count": 37,
   "id": "aabc4461-2ad7-494c-9d2b-0e3ba95d8ec6",
   "metadata": {},
   "outputs": [],
   "source": [
    "def compute_cost(theta):\n",
    "    m = X.shape[0]\n",
    "    cost = -1/m * sum( np.multiply(Y, np.log( 1/(1 + np.exp(-np.matmul(X, theta))) )) + np.multiply( (1 - Y), np.log(1 - 1/(1 + np.exp(-np.matmul(X, theta)))) ) )\n",
    "    # cost = np.multiply(Y, np.log( 1/(1 + np.exp(-np.matmul(X, theta))) )) + np.multiply( (1 - Y), np.log(1 - (1/(1 + np.exp(-np.matmul(X, theta))))  ) )\n",
    "    #grad = np.matmul( np.transpose(1/(1 + np.exp(-np.matmul(X, theta))) - Y ), X) / m\n",
    "    return cost#, grad"
   ]
  },
  {
   "cell_type": "code",
   "execution_count": 38,
   "id": "72c01447-1a54-4882-b8c2-e48b41eec069",
   "metadata": {},
   "outputs": [
    {
     "name": "stderr",
     "output_type": "stream",
     "text": [
      "/tmp/ipykernel_27501/3729702260.py:3: RuntimeWarning: divide by zero encountered in log\n",
      "  cost = -1/m * sum( np.multiply(Y, np.log( 1/(1 + np.exp(-np.matmul(X, theta))) )) + np.multiply( (1 - Y), np.log(1 - 1/(1 + np.exp(-np.matmul(X, theta)))) ) )\n",
      "/tmp/ipykernel_27501/3729702260.py:3: RuntimeWarning: invalid value encountered in multiply\n",
      "  cost = -1/m * sum( np.multiply(Y, np.log( 1/(1 + np.exp(-np.matmul(X, theta))) )) + np.multiply( (1 - Y), np.log(1 - 1/(1 + np.exp(-np.matmul(X, theta)))) ) )\n",
      "/tmp/ipykernel_27501/3729702260.py:3: RuntimeWarning: divide by zero encountered in log\n",
      "  cost = -1/m * sum( np.multiply(Y, np.log( 1/(1 + np.exp(-np.matmul(X, theta))) )) + np.multiply( (1 - Y), np.log(1 - 1/(1 + np.exp(-np.matmul(X, theta)))) ) )\n",
      "/tmp/ipykernel_27501/3729702260.py:3: RuntimeWarning: invalid value encountered in multiply\n",
      "  cost = -1/m * sum( np.multiply(Y, np.log( 1/(1 + np.exp(-np.matmul(X, theta))) )) + np.multiply( (1 - Y), np.log(1 - 1/(1 + np.exp(-np.matmul(X, theta)))) ) )\n",
      "/tmp/ipykernel_27501/3729702260.py:3: RuntimeWarning: divide by zero encountered in log\n",
      "  cost = -1/m * sum( np.multiply(Y, np.log( 1/(1 + np.exp(-np.matmul(X, theta))) )) + np.multiply( (1 - Y), np.log(1 - 1/(1 + np.exp(-np.matmul(X, theta)))) ) )\n",
      "/tmp/ipykernel_27501/3729702260.py:3: RuntimeWarning: invalid value encountered in multiply\n",
      "  cost = -1/m * sum( np.multiply(Y, np.log( 1/(1 + np.exp(-np.matmul(X, theta))) )) + np.multiply( (1 - Y), np.log(1 - 1/(1 + np.exp(-np.matmul(X, theta)))) ) )\n"
     ]
    }
   ],
   "source": [
    "from scipy.optimize import minimize\n",
    "minimize(J, x0=[0, 0, 0], args=(X, y), method ='CG', jac=gradient)\n",
    "cost = minimize(compute_cost, x0=[0, 0], method='CG')"
   ]
  },
  {
   "cell_type": "code",
   "execution_count": 39,
   "id": "1c2b6e09-e555-4205-bef0-39994a51298e",
   "metadata": {},
   "outputs": [
    {
     "data": {
      "text/plain": [
       "     fun: nan\n",
       "     jac: array([nan, nan])\n",
       " message: 'NaN result encountered.'\n",
       "    nfev: 336\n",
       "     nit: 1\n",
       "    njev: 112\n",
       "  status: 3\n",
       " success: False\n",
       "       x: array([3.50256315e-01, 1.03423994e+03])"
      ]
     },
     "execution_count": 39,
     "metadata": {},
     "output_type": "execute_result"
    }
   ],
   "source": [
    "cost"
   ]
  },
  {
   "cell_type": "code",
   "execution_count": null,
   "id": "345b3391-d00b-4f92-a722-a7cd43f8d454",
   "metadata": {},
   "outputs": [],
   "source": []
  }
 ],
 "metadata": {
  "kernelspec": {
   "display_name": "Python 3 (ipykernel)",
   "language": "python",
   "name": "python3"
  },
  "language_info": {
   "codemirror_mode": {
    "name": "ipython",
    "version": 3
   },
   "file_extension": ".py",
   "mimetype": "text/x-python",
   "name": "python",
   "nbconvert_exporter": "python",
   "pygments_lexer": "ipython3",
   "version": "3.8.10"
  }
 },
 "nbformat": 4,
 "nbformat_minor": 5
}
